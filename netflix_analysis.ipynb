{
 "cells": [
  {
   "cell_type": "markdown",
   "metadata": {},
   "source": [
    "# Netflix Dataset Analysis\n",
    "## Goals\n",
    "#### Example scenario\n",
    "The content team wish to make some data driven decisions about how they can best serve their global audiences. They want the analytics team to examine their historical offerings, and generate some insight about which categories of content are under represented internationally versus domestically (USA). \n",
    "#### Purpose Statement\n",
    "The purpose of this study is to, from a high level, determine if any differences exist between the patterns or trends that might exist within the historical dataset, and to examine its shape, so that this information can be used to direct future non-domestic content decisions. \n",
    "#### Research Questions\n",
    "- Which genres of content, by number of titles added, grew the most/least during the last five years?\n",
    "- How has the distribution of new content, by genre and type, changed over the last five years?\n",
    "- What are the differences in trends in overall growth between domestic and non domestic offerings, measured by number of titles added?\n",
    "\n",
    "#### Data\n",
    "The source of the data used in this analysis is kaggle.\n",
    "The licensing of the data is Public Domain, meaning it is available for any purpose, and its publisher does not retain any rights to it. "
   ]
  },
  {
   "cell_type": "code",
   "execution_count": 1,
   "metadata": {},
   "outputs": [],
   "source": [
    "import pandas as pd"
   ]
  },
  {
   "cell_type": "code",
   "execution_count": 14,
   "metadata": {},
   "outputs": [
    {
     "name": "stdout",
     "output_type": "stream",
     "text": [
      "Number of Rows:  6234\n",
      "Features: \n",
      "  show_id\n",
      "  type\n",
      "  title\n",
      "  director\n",
      "  cast\n",
      "  country\n",
      "  date_added\n",
      "  release_year\n",
      "  rating\n",
      "  duration\n",
      "  listed_in\n",
      "  description\n"
     ]
    },
    {
     "data": {
      "text/html": [
       "<div>\n",
       "<style scoped>\n",
       "    .dataframe tbody tr th:only-of-type {\n",
       "        vertical-align: middle;\n",
       "    }\n",
       "\n",
       "    .dataframe tbody tr th {\n",
       "        vertical-align: top;\n",
       "    }\n",
       "\n",
       "    .dataframe thead th {\n",
       "        text-align: right;\n",
       "    }\n",
       "</style>\n",
       "<table border=\"1\" class=\"dataframe\">\n",
       "  <thead>\n",
       "    <tr style=\"text-align: right;\">\n",
       "      <th></th>\n",
       "      <th>show_id</th>\n",
       "      <th>type</th>\n",
       "      <th>country</th>\n",
       "      <th>date_added</th>\n",
       "      <th>duration</th>\n",
       "      <th>listed_in</th>\n",
       "    </tr>\n",
       "  </thead>\n",
       "  <tbody>\n",
       "    <tr>\n",
       "      <th>0</th>\n",
       "      <td>81145628</td>\n",
       "      <td>Movie</td>\n",
       "      <td>United States, India, South Korea, China</td>\n",
       "      <td>September 9, 2019</td>\n",
       "      <td>90 min</td>\n",
       "      <td>Children &amp; Family Movies, Comedies</td>\n",
       "    </tr>\n",
       "    <tr>\n",
       "      <th>1</th>\n",
       "      <td>80117401</td>\n",
       "      <td>Movie</td>\n",
       "      <td>United Kingdom</td>\n",
       "      <td>September 9, 2016</td>\n",
       "      <td>94 min</td>\n",
       "      <td>Stand-Up Comedy</td>\n",
       "    </tr>\n",
       "    <tr>\n",
       "      <th>2</th>\n",
       "      <td>70234439</td>\n",
       "      <td>TV Show</td>\n",
       "      <td>United States</td>\n",
       "      <td>September 8, 2018</td>\n",
       "      <td>1 Season</td>\n",
       "      <td>Kids' TV</td>\n",
       "    </tr>\n",
       "    <tr>\n",
       "      <th>3</th>\n",
       "      <td>80058654</td>\n",
       "      <td>TV Show</td>\n",
       "      <td>United States</td>\n",
       "      <td>September 8, 2018</td>\n",
       "      <td>1 Season</td>\n",
       "      <td>Kids' TV</td>\n",
       "    </tr>\n",
       "    <tr>\n",
       "      <th>4</th>\n",
       "      <td>80125979</td>\n",
       "      <td>Movie</td>\n",
       "      <td>United States</td>\n",
       "      <td>September 8, 2017</td>\n",
       "      <td>99 min</td>\n",
       "      <td>Comedies</td>\n",
       "    </tr>\n",
       "  </tbody>\n",
       "</table>\n",
       "</div>"
      ],
      "text/plain": [
       "    show_id     type                                   country  \\\n",
       "0  81145628    Movie  United States, India, South Korea, China   \n",
       "1  80117401    Movie                            United Kingdom   \n",
       "2  70234439  TV Show                             United States   \n",
       "3  80058654  TV Show                             United States   \n",
       "4  80125979    Movie                             United States   \n",
       "\n",
       "          date_added  duration                           listed_in  \n",
       "0  September 9, 2019    90 min  Children & Family Movies, Comedies  \n",
       "1  September 9, 2016    94 min                     Stand-Up Comedy  \n",
       "2  September 8, 2018  1 Season                            Kids' TV  \n",
       "3  September 8, 2018  1 Season                            Kids' TV  \n",
       "4  September 8, 2017    99 min                            Comedies  "
      ]
     },
     "execution_count": 14,
     "metadata": {},
     "output_type": "execute_result"
    }
   ],
   "source": [
    "df = pd.read_csv('netflix_titles.csv')\n",
    "print('Number of Rows: ', df.shape[0])\n",
    "print('Features: ')\n",
    "for f in df.columns: \n",
    "    print(' ',f)\n",
    "\n",
    "df.drop(columns=['title', 'director', 'cast', 'release_year', 'rating', 'description'], inplace=True)    \n",
    "df.head()\n"
   ]
  },
  {
   "cell_type": "markdown",
   "metadata": {},
   "source": [
    "# Examination of data \n",
    "Upon examination, we can see that the data: \n",
    "- Contains 6,234 records\n",
    "- Consiststed of 12, now 6 columns\n",
    "\n",
    "The features of this dataset will be sufficient for answering the research questions.\n",
    "Many of the features are not relevant to the research questions, hence they can be discarded. "
   ]
  },
  {
   "cell_type": "markdown",
   "metadata": {},
   "source": [
    "# Research Question 1: Which genres of content, by number of titles added, grew the most/least during the last five years?\n",
    "To answer this, records must be filtered to include only the last  years of data.\n",
    "Then, for each record, the categories in the 'listed_in' column will be added to a tally."
   ]
  },
  {
   "cell_type": "code",
   "execution_count": 19,
   "metadata": {},
   "outputs": [],
   "source": [
    "df['date_added'] = pd.to_datetime(df['date_added'])"
   ]
  },
  {
   "cell_type": "code",
   "execution_count": 23,
   "metadata": {},
   "outputs": [
    {
     "data": {
      "text/html": [
       "<div>\n",
       "<style scoped>\n",
       "    .dataframe tbody tr th:only-of-type {\n",
       "        vertical-align: middle;\n",
       "    }\n",
       "\n",
       "    .dataframe tbody tr th {\n",
       "        vertical-align: top;\n",
       "    }\n",
       "\n",
       "    .dataframe thead th {\n",
       "        text-align: right;\n",
       "    }\n",
       "</style>\n",
       "<table border=\"1\" class=\"dataframe\">\n",
       "  <thead>\n",
       "    <tr style=\"text-align: right;\">\n",
       "      <th></th>\n",
       "      <th>date_added</th>\n",
       "      <th>listed_in</th>\n",
       "    </tr>\n",
       "  </thead>\n",
       "  <tbody>\n",
       "    <tr>\n",
       "      <th>0</th>\n",
       "      <td>2019-09-09</td>\n",
       "      <td>Children &amp; Family Movies, Comedies</td>\n",
       "    </tr>\n",
       "    <tr>\n",
       "      <th>1</th>\n",
       "      <td>2016-09-09</td>\n",
       "      <td>Stand-Up Comedy</td>\n",
       "    </tr>\n",
       "    <tr>\n",
       "      <th>2</th>\n",
       "      <td>2018-09-08</td>\n",
       "      <td>Kids' TV</td>\n",
       "    </tr>\n",
       "    <tr>\n",
       "      <th>3</th>\n",
       "      <td>2018-09-08</td>\n",
       "      <td>Kids' TV</td>\n",
       "    </tr>\n",
       "    <tr>\n",
       "      <th>4</th>\n",
       "      <td>2017-09-08</td>\n",
       "      <td>Comedies</td>\n",
       "    </tr>\n",
       "  </tbody>\n",
       "</table>\n",
       "</div>"
      ],
      "text/plain": [
       "  date_added                           listed_in\n",
       "0 2019-09-09  Children & Family Movies, Comedies\n",
       "1 2016-09-09                     Stand-Up Comedy\n",
       "2 2018-09-08                            Kids' TV\n",
       "3 2018-09-08                            Kids' TV\n",
       "4 2017-09-08                            Comedies"
      ]
     },
     "execution_count": 23,
     "metadata": {},
     "output_type": "execute_result"
    }
   ],
   "source": [
    "df1 = df[['date_added', 'listed_in']]\n",
    "df1 = df1[df1['date_added'] >= '2016']\n",
    "df1.head()"
   ]
  },
  {
   "cell_type": "code",
   "execution_count": 35,
   "metadata": {
    "scrolled": false
   },
   "outputs": [
    {
     "data": {
      "text/plain": [
       "{'Action & Adventure',\n",
       " 'Anime Features',\n",
       " 'Anime Series',\n",
       " 'British TV Shows',\n",
       " 'Children & Family Movies',\n",
       " 'Classic & Cult TV',\n",
       " 'Classic Movies',\n",
       " 'Comedies',\n",
       " 'Crime TV Shows',\n",
       " 'Cult Movies',\n",
       " 'Documentaries',\n",
       " 'Docuseries',\n",
       " 'Dramas',\n",
       " 'Faith & Spirituality',\n",
       " 'Horror Movies',\n",
       " 'Independent Movies',\n",
       " 'International Movies',\n",
       " 'International TV Shows',\n",
       " \"Kids' TV\",\n",
       " 'Korean TV Shows',\n",
       " 'LGBTQ Movies',\n",
       " 'Movies',\n",
       " 'Music & Musicals',\n",
       " 'Reality TV',\n",
       " 'Romantic Movies',\n",
       " 'Romantic TV Shows',\n",
       " 'Sci-Fi & Fantasy',\n",
       " 'Science & Nature TV',\n",
       " 'Spanish-Language TV Shows',\n",
       " 'Sports Movies',\n",
       " 'Stand-Up Comedy',\n",
       " 'Stand-Up Comedy & Talk Shows',\n",
       " 'TV Action & Adventure',\n",
       " 'TV Comedies',\n",
       " 'TV Dramas',\n",
       " 'TV Horror',\n",
       " 'TV Mysteries',\n",
       " 'TV Sci-Fi & Fantasy',\n",
       " 'TV Shows',\n",
       " 'TV Thrillers',\n",
       " 'Teen TV Shows',\n",
       " 'Thrillers'}"
      ]
     },
     "execution_count": 35,
     "metadata": {},
     "output_type": "execute_result"
    }
   ],
   "source": [
    "categories = []\n",
    "for index, row in df1.iterrows():\n",
    "    cats = row['listed_in'].split(',')\n",
    "    for c in cats: \n",
    "        categories.append(c.strip())\n",
    "    \n",
    "set(categories)"
   ]
  },
  {
   "cell_type": "markdown",
   "metadata": {},
   "source": [
    "This is a good overview, but many categories are sub divided into movies and tv, which is redundant since there's already a feature for this, and it provides undesired granularity for this study. The study will be reconducted, this time removing references to Movies or TV shows, and merging tv/movies together. "
   ]
  },
  {
   "cell_type": "code",
   "execution_count": 87,
   "metadata": {},
   "outputs": [
    {
     "data": {
      "text/plain": [
       "<AxesSubplot:title={'center':'Total number of titles added by genre 2016-2020'}>"
      ]
     },
     "execution_count": 87,
     "metadata": {},
     "output_type": "execute_result"
    },
    {
     "data": {
      "image/png": "[encoded data removed]",
      "text/plain": [
       "<Figure size 1080x504 with 1 Axes>"
      ]
     },
     "metadata": {
      "needs_background": "light"
     },
     "output_type": "display_data"
    }
   ],
   "source": [
    "def recode_category(original, keyword, new): \n",
    "    if keyword in original:\n",
    "        return new\n",
    "    else:\n",
    "        return original\n",
    "\n",
    "years = []\n",
    "categories = []\n",
    "\n",
    "for index, row in df1.iterrows():\n",
    "    cats = row['listed_in'].split(',')\n",
    "    for c in cats: \n",
    "        recoded_category = c.replace('TV', '').replace('Shows', '').replace('Movies', '').replace(\"'\", '').strip() \n",
    "        recoded_category = recode_category(recoded_category, 'Anime', 'Anime')\n",
    "        recoded_category = recode_category(recoded_category, 'Docu', 'Documentary')\n",
    "    \n",
    "        year = row['date_added'].year\n",
    "    if year and recoded_category: \n",
    "        categories.append(recoded_category)\n",
    "        years.append(year)\n",
    "\n",
    "categoriesdf = pd.DataFrame({'Category': categories, 'Year Added': years})\n",
    "categoriesdf['Category'].value_counts().plot(kind='bar', figsize=(15, 7), title='Total number of titles added by genre 2016-2020')"
   ]
  },
  {
   "cell_type": "markdown",
   "metadata": {},
   "source": [
    "The top 10 gainers over the 5 years are International, Dramas, Comedies, Romantic, Thrillers, Documentary, Stand-Up Comedy, Independednt, Sci-Fi & Fantasy, and Music & Musicals."
   ]
  },
  {
   "cell_type": "code",
   "execution_count": 132,
   "metadata": {},
   "outputs": [],
   "source": [
    "top10 = list(categoriesdf['Category'].value_counts().head(10).index)"
   ]
  },
  {
   "cell_type": "code",
   "execution_count": 135,
   "metadata": {},
   "outputs": [
    {
     "data": {
      "text/plain": [
       "Text(0, 0.5, 'Number of Titles Added')"
      ]
     },
     "execution_count": 135,
     "metadata": {},
     "output_type": "execute_result"
    },
    {
     "data": {
      "image/png": "[encoded data removed]",
      "text/plain": [
       "<Figure size 1080x504 with 1 Axes>"
      ]
     },
     "metadata": {
      "needs_background": "light"
     },
     "output_type": "display_data"
    }
   ],
   "source": [
    "categoriesbyyear = categoriesdf.groupby(['Category', 'Year Added']).size()\n",
    "\n",
    "x = categoriesbyyear.to_frame().unstack()\n",
    "x.columns = x.columns.droplevel()\n",
    "top10df = x[x.index.isin(top10)]\n",
    "\n",
    "ax = top10df.reindex(top10).plot(kind='bar', figsize=(15,7), title='Number of titles added by catergory by year');\n",
    "ax.set_xlabel(\"Genre\")\n",
    "ax.set_ylabel(\"Number of Titles Added\")"
   ]
  },
  {
   "cell_type": "markdown",
   "metadata": {},
   "source": [
    "### Answering the research question:\n",
    "The genres of offerings that grew the most have been identified, as have the least gaining genres."
   ]
  },
  {
   "cell_type": "markdown",
   "metadata": {},
   "source": [
    "# Research Question 2: How has the distribution of new content, by genre and type, changed over the last five years?\n",
    "To answer this, the relative frequencies of 2015's genres must be compared to 2019's genres. \n",
    "2020 could be used, but there appears to be insufficient data present for this period in the sample. To answer this question, the top 10 categories will be examined."
   ]
  },
  {
   "cell_type": "code",
   "execution_count": 191,
   "metadata": {},
   "outputs": [
    {
     "name": "stdout",
     "output_type": "stream",
     "text": [
      "2015 Category\n",
      "Stand-Up Comedy      13.0\n",
      "Comedies             12.0\n",
      "International        10.0\n",
      "Dramas                8.0\n",
      "Children & Family     6.0\n",
      "Kids                  6.0\n",
      "Music & Musicals      6.0\n",
      "Documentary           4.0\n",
      "Sci-Fi & Fantasy      4.0\n",
      "Independent           3.0\n",
      "Name: 2015, dtype: float64 \n",
      "\n",
      "\n",
      " 2019 Category\n",
      "International       500.0\n",
      "Dramas              277.0\n",
      "Comedies            237.0\n",
      "Romantic            201.0\n",
      "Thrillers           178.0\n",
      "Documentary         136.0\n",
      "Sci-Fi & Fantasy     97.0\n",
      "Independent          83.0\n",
      "Music & Musicals     69.0\n",
      "Reality              67.0\n",
      "Name: 2019, dtype: float64\n"
     ]
    }
   ],
   "source": [
    "#the x df cannot be used here. Create a new df from 2015 to 2019. This block is repeating the steps above. \n",
    "df2 = df[['date_added', 'listed_in']]\n",
    "df2 = df2[(df2['date_added'] >= '2015') & (df2['date_added'] < '2020')]\n",
    "#recode the data\n",
    "years2 = []\n",
    "categories2 = []\n",
    "\n",
    "for index, row in df2.iterrows():\n",
    "    cats = row['listed_in'].split(',')\n",
    "    for c in cats: \n",
    "        recoded_category = c.replace('TV', '').replace('Shows', '').replace('Movies', '').replace(\"'\", '').strip() \n",
    "        recoded_category = recode_category(recoded_category, 'Anime', 'Anime')\n",
    "        recoded_category = recode_category(recoded_category, 'Docu', 'Documentary')\n",
    "    \n",
    "        year = row['date_added'].year\n",
    "    if year and recoded_category: \n",
    "        categories2.append(recoded_category)\n",
    "        years2.append(year)\n",
    "\n",
    "categoriesdf2 = pd.DataFrame({'Category': categories2, 'Year Added': years2})\n",
    "\n",
    "#remove multiindexed columns\n",
    "categoriesbyyear2 = categoriesdf2.groupby(['Category', 'Year Added']).size()\n",
    "x2 = categoriesbyyear2.to_frame().unstack()\n",
    "x2.columns = x2.columns.droplevel()\n",
    "\n",
    "top10_2015 = x2[2015].sort_values(ascending=False).head(10)\n",
    "top10_2019 = x2[2019].sort_values(ascending=False).head(10)\n",
    "\n",
    "print('2015',top10_2015, '\\n\\n\\n','2019', top10_2019)"
   ]
  },
  {
   "cell_type": "code",
   "execution_count": 193,
   "metadata": {},
   "outputs": [
    {
     "data": {
      "image/png": "[encoded data removed]",
      "text/plain": [
       "<Figure size 504x504 with 1 Axes>"
      ]
     },
     "metadata": {},
     "output_type": "display_data"
    }
   ],
   "source": [
    "top10_2015.plot(kind='pie', figsize=(7,7), autopct='%1.0f%%', pctdistance=0.8, startangle=90);"
   ]
  },
  {
   "cell_type": "code",
   "execution_count": 194,
   "metadata": {},
   "outputs": [
    {
     "data": {
      "image/png": "[encoded data removed]",
      "text/plain": [
       "<Figure size 504x504 with 1 Axes>"
      ]
     },
     "metadata": {},
     "output_type": "display_data"
    }
   ],
   "source": [
    "top10_2019.plot(kind='pie', figsize=(7,7), autopct='%1.0f%%', pctdistance=0.8, startangle=90);"
   ]
  },
  {
   "cell_type": "markdown",
   "metadata": {},
   "source": [
    "## Comments on Top 10\n",
    "The following statements refer to percentages as a proportion of the top 10 categories for the respective year, not percentages of the total offerings for a given year. \n",
    "\n",
    "In 2015 the number one category was Stand-Up Comedy, no longer holds true for 2019. Moving from an initial value of 18%, the share of new content occupied by Stand-Up Comedy fell to less than 4% in 2019, and landed it out of the top ten most popular genres. \n",
    "\n",
    "The second most popular genre of 2015 was Comedies, at 17%. In 2019, Comedies has dropped to 3rd place at 13%, being overtaken by Dramas, which boasts a move from 11% and 4th place in 2015, all the way up to 15% in 2019.\n",
    "\n",
    "International, ranked 3rd by relative frequency in 2015 at 14%, had increased by a huge amount up to 27% in 2019, making it the number on ranked category in 2019.\n",
    "\n",
    "The 4th position in 2015 was occupied by Drama titles at 11%, by 2019 the Dramas genre had moved up into 2nd place with a share of 15%. In 2019, the Romantic genre had increased from less than 4% in 2015 up to 11%, making it the fourth ranked genre of offering. \n",
    "\n",
    "Children & Family, Kids, and Music & Musicals occupied the 5th, 6th, and 7th positions in the rankings in 2015, with each category representing 8% of the top 10. Looking at 2019, only Music & Musicals remains listed in the top 10 genres, falling to the 9th position, and only making up 4% of the top 10 offerings. The 5th, 6th, and 7th posiitons were occupied by Thrillers, Documentary, and Sci-Fi & Fantasy, each at 10%, 7% and 5% respectively.\n",
    "\n",
    "Overall, there are clearly some title genres that are more resilient than others, with International, Dramas, and Comedies each taking up a massive collective share of 42% of the top 10 in 2015, and an even greater 55% in 2019. \n",
    "It appears that these three categories are strongest, having retained high ranking positions throughout the years observed (see *Number of titles added by category by year* cluster chart)"
   ]
  },
  {
   "cell_type": "markdown",
   "metadata": {},
   "source": [
    "## Visualising the distribution of frequencies\n",
    "Looking at a histogram of category additions can help to show whether there is a large amount of 'dead weight' in the additions being added. For if there is a high number of unpopular categories, perhaps the resources devoted to these additions should be redirected toward the addition of known favourites."
   ]
  },
  {
   "cell_type": "code",
   "execution_count": 206,
   "metadata": {},
   "outputs": [
    {
     "data": {
      "text/plain": [
       "Text(0, 0.5, 'Frequency')"
      ]
     },
     "execution_count": 206,
     "metadata": {},
     "output_type": "execute_result"
    },
    {
     "data": {
      "image/png": "[encoded data removed]",
      "text/plain": [
       "<Figure size 1080x720 with 1 Axes>"
      ]
     },
     "metadata": {
      "needs_background": "light"
     },
     "output_type": "display_data"
    }
   ],
   "source": [
    "x2['Total']= x.iloc[:, -5:-1].sum(axis=1)\n",
    "ax = x2['Total'].hist(bins=25, figsize=(15, 10))\n",
    "ax.set_title('Distribution of Genre popularity by titles added from 2015-2019')\n",
    "ax.set_xlabel('New additions')\n",
    "ax.set_ylabel('Frequency')"
   ]
  },
  {
   "cell_type": "markdown",
   "metadata": {},
   "source": [
    "Indeed, there are many genres that experienced around only 20 additions. The high degree of right skewness of the data indicates that there is extreme variabliity between the popularity of different genres offered, with a large degree of new content being made up by only a few titles, which can be considered outliers. Here we see that while there are many categories offered, most of them do not have a large impact due to their small size. This data fits the narrative of the pareto principal, which states that most of efforts expended are inconsequential to the end outcome, in this case, most categories do not show enough growth in comparison to the few which dominate the titles list"
   ]
  },
  {
   "cell_type": "markdown",
   "metadata": {},
   "source": [
    "# Research Question 3: What are the differences in trends in overall growth between domestic and non domestic offerings, measured by number of titles added?\n",
    "To answer this, the total new offerings by country for the sample will be examined, as well as category trends by country."
   ]
  },
  {
   "cell_type": "code",
   "execution_count": 224,
   "metadata": {},
   "outputs": [
    {
     "data": {
      "text/plain": [
       "United States     2610\n",
       "India              838\n",
       "United Kingdom     602\n",
       "Canada             318\n",
       "France             271\n",
       "                  ... \n",
       "Slovakia             1\n",
       "Somalia              1\n",
       "Azerbaijan           1\n",
       "Kuwait               1\n",
       "Sri Lanka            1\n",
       "Length: 111, dtype: int64"
      ]
     },
     "execution_count": 224,
     "metadata": {},
     "output_type": "execute_result"
    }
   ],
   "source": [
    "#Total titles per country\n",
    "countries = []\n",
    "\n",
    "def testfunc(countrylist): \n",
    "    if isinstance(countrylist, str):\n",
    "        items = countrylist.split(',')\n",
    "        for country in items: \n",
    "            country = country.strip()\n",
    "            countries.append(country)\n",
    "\n",
    "df['country'].apply(testfunc)\n",
    "\n",
    "countries = pd.Series(countries)\n",
    "countries.value_counts()"
   ]
  },
  {
   "cell_type": "code",
   "execution_count": 250,
   "metadata": {
    "scrolled": true
   },
   "outputs": [
    {
     "data": {
      "text/html": [
       "<div>\n",
       "<style scoped>\n",
       "    .dataframe tbody tr th:only-of-type {\n",
       "        vertical-align: middle;\n",
       "    }\n",
       "\n",
       "    .dataframe tbody tr th {\n",
       "        vertical-align: top;\n",
       "    }\n",
       "\n",
       "    .dataframe thead th {\n",
       "        text-align: right;\n",
       "    }\n",
       "</style>\n",
       "<table border=\"1\" class=\"dataframe\">\n",
       "  <thead>\n",
       "    <tr style=\"text-align: right;\">\n",
       "      <th></th>\n",
       "      <th>Country</th>\n",
       "      <th>Count</th>\n",
       "      <th>Code</th>\n",
       "    </tr>\n",
       "  </thead>\n",
       "  <tbody>\n",
       "    <tr>\n",
       "      <th>0</th>\n",
       "      <td>United States</td>\n",
       "      <td>2610</td>\n",
       "      <td>USA</td>\n",
       "    </tr>\n",
       "    <tr>\n",
       "      <th>1</th>\n",
       "      <td>India</td>\n",
       "      <td>838</td>\n",
       "      <td>IND</td>\n",
       "    </tr>\n",
       "    <tr>\n",
       "      <th>2</th>\n",
       "      <td>United Kingdom</td>\n",
       "      <td>602</td>\n",
       "      <td>GBR</td>\n",
       "    </tr>\n",
       "    <tr>\n",
       "      <th>3</th>\n",
       "      <td>Canada</td>\n",
       "      <td>318</td>\n",
       "      <td>CAN</td>\n",
       "    </tr>\n",
       "    <tr>\n",
       "      <th>4</th>\n",
       "      <td>France</td>\n",
       "      <td>271</td>\n",
       "      <td>FRA</td>\n",
       "    </tr>\n",
       "  </tbody>\n",
       "</table>\n",
       "</div>"
      ],
      "text/plain": [
       "          Country  Count Code\n",
       "0   United States   2610  USA\n",
       "1           India    838  IND\n",
       "2  United Kingdom    602  GBR\n",
       "3          Canada    318  CAN\n",
       "4          France    271  FRA"
      ]
     },
     "execution_count": 250,
     "metadata": {},
     "output_type": "execute_result"
    }
   ],
   "source": [
    "import pycountry \n",
    "\n",
    "countriesdf = pd.DataFrame(countries.value_counts()).reset_index()\n",
    "countriesdf.columns = ['Country', 'Count']\n",
    "#Some country names will give problems below\n",
    "countriesdf.loc[countriesdf['Country'] == 'South Korea', 'Country'] = 'Korea'\n",
    "countriesdf.loc[countriesdf['Country'] == 'West Germany', 'Country' ] = 'Germany'\n",
    "countriesdf.loc[countriesdf['Country'] == 'East Germany', 'Country' ] = 'Germany'\n",
    "countriesdf.loc[countriesdf['Country'] == 'Soviet Union', 'Country' ] = 'Russia'\n",
    "\n",
    "\n",
    "\n",
    "countriesdf['Code'] = countriesdf['Country'].apply(lambda x: pycountry.countries.search_fuzzy(x)[0].alpha_3)\n",
    "countriesdf.head()"
   ]
  },
  {
   "cell_type": "code",
   "execution_count": 331,
   "metadata": {},
   "outputs": [
    {
     "name": "stdout",
     "output_type": "stream",
     "text": [
      "Total titles added:  7182\n"
     ]
    }
   ],
   "source": [
    "print('Total titles added: ', countriesdf['Count'].sum())"
   ]
  },
  {
   "cell_type": "code",
   "execution_count": 220,
   "metadata": {},
   "outputs": [],
   "source": [
    "import chart_studio.plotly as py\n",
    "from plotly.offline import download_plotlyjs, init_notebook_mode, plot, iplot\n",
    "from plotly import graph_objs as go"
   ]
  },
  {
   "cell_type": "code",
   "execution_count": 289,
   "metadata": {},
   "outputs": [
    {
     "data": {
      "application/vnd.plotly.v1+json": {
       "config": {
        "plotlyServerURL": "https://plot.ly"
       },
       "data": [
        {
         "colorbar": {
          "title": {
           "text": "Titles added"
          }
         },
         "colorscale": [
          [
           0,
           "#440154"
          ],
          [
           0.1111111111111111,
           "#482878"
          ],
          [
           0.2222222222222222,
           "#3e4989"
          ],
          [
           0.3333333333333333,
           "#31688e"
          ],
          [
           0.4444444444444444,
           "#26828e"
          ],
          [
           0.5555555555555556,
           "#1f9e89"
          ],
          [
           0.6666666666666666,
           "#35b779"
          ],
          [
           0.7777777777777778,
           "#6ece58"
          ],
          [
           0.8888888888888888,
           "#b5de2b"
          ],
          [
           1,
           "#fde725"
          ]
         ],
         "locations": [
          "USA",
          "IND",
          "GBR",
          "CAN",
          "FRA",
          "JPN",
          "ESP",
          "PRK",
          "DEU",
          "MEX",
          "AUS",
          "CHN",
          "HKG",
          "TUR",
          "TWN",
          "ARG",
          "ITA",
          "BRA",
          "BEL",
          "THA",
          "EGY",
          "IDN",
          "PHL",
          "DNK",
          "NLD",
          "COL",
          "NGA",
          "SWE",
          "IRL",
          "ZAF",
          "SGP",
          "POL",
          "ISR",
          "CHL",
          "PAK",
          "NZL",
          "MYS",
          "NOR",
          "RUS",
          "ARE",
          "CHE",
          "CZE",
          "AUT",
          "FIN",
          "URY",
          "PER",
          "LBN",
          "GRC",
          "BGR",
          "LUX",
          "ROU",
          "MAR",
          "ISL",
          "QAT",
          "JOR",
          "DEU",
          "SRB",
          "HUN",
          "IRN",
          "VNM",
          "HRV",
          "PRT",
          "BGD",
          "VEN",
          "SVN",
          "GBR",
          "UKR",
          "RUS",
          "KHM",
          "ZWE",
          "DOM",
          "IRQ",
          "GHA",
          "NPL",
          "MLT",
          "SAU",
          "SEN",
          "GEO",
          "PRY",
          "LIE",
          "KAZ",
          "SDN",
          "ARM",
          "BMU",
          "WSM",
          "SYR",
          "VAT",
          "LVA",
          "DEU",
          "ECU",
          "GTM",
          "NIC",
          "UGA",
          "NAM",
          "CUB",
          "CYM",
          "BWA",
          "PAN",
          "MUS",
          "MNE",
          "AFG",
          "KEN",
          "MWI",
          "MNG",
          "CYP",
          "ALB",
          "SVK",
          "SOM",
          "AZE",
          "KWT",
          "LKA"
         ],
         "marker": {
          "line": {
           "color": "white"
          }
         },
         "type": "choropleth",
         "z": [
          2610,
          838,
          602,
          318,
          271,
          231,
          178,
          162,
          151,
          129,
          126,
          120,
          97,
          87,
          75,
          68,
          67,
          66,
          66,
          56,
          54,
          52,
          47,
          38,
          37,
          36,
          36,
          33,
          33,
          30,
          30,
          27,
          26,
          23,
          23,
          23,
          21,
          21,
          21,
          21,
          15,
          15,
          10,
          9,
          9,
          9,
          9,
          8,
          8,
          7,
          6,
          6,
          6,
          6,
          6,
          5,
          5,
          5,
          4,
          4,
          4,
          4,
          3,
          3,
          3,
          3,
          3,
          3,
          3,
          2,
          2,
          2,
          2,
          2,
          2,
          2,
          2,
          2,
          1,
          1,
          1,
          1,
          1,
          1,
          1,
          1,
          1,
          1,
          1,
          1,
          1,
          1,
          1,
          1,
          1,
          1,
          1,
          1,
          1,
          1,
          1,
          1,
          1,
          1,
          1,
          1,
          1,
          1,
          1,
          1,
          1
         ]
        }
       ],
       "layout": {
        "geo": {
         "landcolor": "rgb(240,240,240)",
         "projection": {
          "type": "natural earth"
         },
         "showcoastlines": false,
         "showframe": false,
         "showland": true
        },
        "template": {
         "data": {
          "bar": [
           {
            "error_x": {
             "color": "#2a3f5f"
            },
            "error_y": {
             "color": "#2a3f5f"
            },
            "marker": {
             "line": {
              "color": "#E5ECF6",
              "width": 0.5
             }
            },
            "type": "bar"
           }
          ],
          "barpolar": [
           {
            "marker": {
             "line": {
              "color": "#E5ECF6",
              "width": 0.5
             }
            },
            "type": "barpolar"
           }
          ],
          "carpet": [
           {
            "aaxis": {
             "endlinecolor": "#2a3f5f",
             "gridcolor": "white",
             "linecolor": "white",
             "minorgridcolor": "white",
             "startlinecolor": "#2a3f5f"
            },
            "baxis": {
             "endlinecolor": "#2a3f5f",
             "gridcolor": "white",
             "linecolor": "white",
             "minorgridcolor": "white",
             "startlinecolor": "#2a3f5f"
            },
            "type": "carpet"
           }
          ],
          "choropleth": [
           {
            "colorbar": {
             "outlinewidth": 0,
             "ticks": ""
            },
            "type": "choropleth"
           }
          ],
          "contour": [
           {
            "colorbar": {
             "outlinewidth": 0,
             "ticks": ""
            },
            "colorscale": [
             [
              0,
              "#0d0887"
             ],
             [
              0.1111111111111111,
              "#46039f"
             ],
             [
              0.2222222222222222,
              "#7201a8"
             ],
             [
              0.3333333333333333,
              "#9c179e"
             ],
             [
              0.4444444444444444,
              "#bd3786"
             ],
             [
              0.5555555555555556,
              "#d8576b"
             ],
             [
              0.6666666666666666,
              "#ed7953"
             ],
             [
              0.7777777777777778,
              "#fb9f3a"
             ],
             [
              0.8888888888888888,
              "#fdca26"
             ],
             [
              1,
              "#f0f921"
             ]
            ],
            "type": "contour"
           }
          ],
          "contourcarpet": [
           {
            "colorbar": {
             "outlinewidth": 0,
             "ticks": ""
            },
            "type": "contourcarpet"
           }
          ],
          "heatmap": [
           {
            "colorbar": {
             "outlinewidth": 0,
             "ticks": ""
            },
            "colorscale": [
             [
              0,
              "#0d0887"
             ],
             [
              0.1111111111111111,
              "#46039f"
             ],
             [
              0.2222222222222222,
              "#7201a8"
             ],
             [
              0.3333333333333333,
              "#9c179e"
             ],
             [
              0.4444444444444444,
              "#bd3786"
             ],
             [
              0.5555555555555556,
              "#d8576b"
             ],
             [
              0.6666666666666666,
              "#ed7953"
             ],
             [
              0.7777777777777778,
              "#fb9f3a"
             ],
             [
              0.8888888888888888,
              "#fdca26"
             ],
             [
              1,
              "#f0f921"
             ]
            ],
            "type": "heatmap"
           }
          ],
          "heatmapgl": [
           {
            "colorbar": {
             "outlinewidth": 0,
             "ticks": ""
            },
            "colorscale": [
             [
              0,
              "#0d0887"
             ],
             [
              0.1111111111111111,
              "#46039f"
             ],
             [
              0.2222222222222222,
              "#7201a8"
             ],
             [
              0.3333333333333333,
              "#9c179e"
             ],
             [
              0.4444444444444444,
              "#bd3786"
             ],
             [
              0.5555555555555556,
              "#d8576b"
             ],
             [
              0.6666666666666666,
              "#ed7953"
             ],
             [
              0.7777777777777778,
              "#fb9f3a"
             ],
             [
              0.8888888888888888,
              "#fdca26"
             ],
             [
              1,
              "#f0f921"
             ]
            ],
            "type": "heatmapgl"
           }
          ],
          "histogram": [
           {
            "marker": {
             "colorbar": {
              "outlinewidth": 0,
              "ticks": ""
             }
            },
            "type": "histogram"
           }
          ],
          "histogram2d": [
           {
            "colorbar": {
             "outlinewidth": 0,
             "ticks": ""
            },
            "colorscale": [
             [
              0,
              "#0d0887"
             ],
             [
              0.1111111111111111,
              "#46039f"
             ],
             [
              0.2222222222222222,
              "#7201a8"
             ],
             [
              0.3333333333333333,
              "#9c179e"
             ],
             [
              0.4444444444444444,
              "#bd3786"
             ],
             [
              0.5555555555555556,
              "#d8576b"
             ],
             [
              0.6666666666666666,
              "#ed7953"
             ],
             [
              0.7777777777777778,
              "#fb9f3a"
             ],
             [
              0.8888888888888888,
              "#fdca26"
             ],
             [
              1,
              "#f0f921"
             ]
            ],
            "type": "histogram2d"
           }
          ],
          "histogram2dcontour": [
           {
            "colorbar": {
             "outlinewidth": 0,
             "ticks": ""
            },
            "colorscale": [
             [
              0,
              "#0d0887"
             ],
             [
              0.1111111111111111,
              "#46039f"
             ],
             [
              0.2222222222222222,
              "#7201a8"
             ],
             [
              0.3333333333333333,
              "#9c179e"
             ],
             [
              0.4444444444444444,
              "#bd3786"
             ],
             [
              0.5555555555555556,
              "#d8576b"
             ],
             [
              0.6666666666666666,
              "#ed7953"
             ],
             [
              0.7777777777777778,
              "#fb9f3a"
             ],
             [
              0.8888888888888888,
              "#fdca26"
             ],
             [
              1,
              "#f0f921"
             ]
            ],
            "type": "histogram2dcontour"
           }
          ],
          "mesh3d": [
           {
            "colorbar": {
             "outlinewidth": 0,
             "ticks": ""
            },
            "type": "mesh3d"
           }
          ],
          "parcoords": [
           {
            "line": {
             "colorbar": {
              "outlinewidth": 0,
              "ticks": ""
             }
            },
            "type": "parcoords"
           }
          ],
          "pie": [
           {
            "automargin": true,
            "type": "pie"
           }
          ],
          "scatter": [
           {
            "marker": {
             "colorbar": {
              "outlinewidth": 0,
              "ticks": ""
             }
            },
            "type": "scatter"
           }
          ],
          "scatter3d": [
           {
            "line": {
             "colorbar": {
              "outlinewidth": 0,
              "ticks": ""
             }
            },
            "marker": {
             "colorbar": {
              "outlinewidth": 0,
              "ticks": ""
             }
            },
            "type": "scatter3d"
           }
          ],
          "scattercarpet": [
           {
            "marker": {
             "colorbar": {
              "outlinewidth": 0,
              "ticks": ""
             }
            },
            "type": "scattercarpet"
           }
          ],
          "scattergeo": [
           {
            "marker": {
             "colorbar": {
              "outlinewidth": 0,
              "ticks": ""
             }
            },
            "type": "scattergeo"
           }
          ],
          "scattergl": [
           {
            "marker": {
             "colorbar": {
              "outlinewidth": 0,
              "ticks": ""
             }
            },
            "type": "scattergl"
           }
          ],
          "scattermapbox": [
           {
            "marker": {
             "colorbar": {
              "outlinewidth": 0,
              "ticks": ""
             }
            },
            "type": "scattermapbox"
           }
          ],
          "scatterpolar": [
           {
            "marker": {
             "colorbar": {
              "outlinewidth": 0,
              "ticks": ""
             }
            },
            "type": "scatterpolar"
           }
          ],
          "scatterpolargl": [
           {
            "marker": {
             "colorbar": {
              "outlinewidth": 0,
              "ticks": ""
             }
            },
            "type": "scatterpolargl"
           }
          ],
          "scatterternary": [
           {
            "marker": {
             "colorbar": {
              "outlinewidth": 0,
              "ticks": ""
             }
            },
            "type": "scatterternary"
           }
          ],
          "surface": [
           {
            "colorbar": {
             "outlinewidth": 0,
             "ticks": ""
            },
            "colorscale": [
             [
              0,
              "#0d0887"
             ],
             [
              0.1111111111111111,
              "#46039f"
             ],
             [
              0.2222222222222222,
              "#7201a8"
             ],
             [
              0.3333333333333333,
              "#9c179e"
             ],
             [
              0.4444444444444444,
              "#bd3786"
             ],
             [
              0.5555555555555556,
              "#d8576b"
             ],
             [
              0.6666666666666666,
              "#ed7953"
             ],
             [
              0.7777777777777778,
              "#fb9f3a"
             ],
             [
              0.8888888888888888,
              "#fdca26"
             ],
             [
              1,
              "#f0f921"
             ]
            ],
            "type": "surface"
           }
          ],
          "table": [
           {
            "cells": {
             "fill": {
              "color": "#EBF0F8"
             },
             "line": {
              "color": "white"
             }
            },
            "header": {
             "fill": {
              "color": "#C8D4E3"
             },
             "line": {
              "color": "white"
             }
            },
            "type": "table"
           }
          ]
         },
         "layout": {
          "annotationdefaults": {
           "arrowcolor": "#2a3f5f",
           "arrowhead": 0,
           "arrowwidth": 1
          },
          "autotypenumbers": "strict",
          "coloraxis": {
           "colorbar": {
            "outlinewidth": 0,
            "ticks": ""
           }
          },
          "colorscale": {
           "diverging": [
            [
             0,
             "#8e0152"
            ],
            [
             0.1,
             "#c51b7d"
            ],
            [
             0.2,
             "#de77ae"
            ],
            [
             0.3,
             "#f1b6da"
            ],
            [
             0.4,
             "#fde0ef"
            ],
            [
             0.5,
             "#f7f7f7"
            ],
            [
             0.6,
             "#e6f5d0"
            ],
            [
             0.7,
             "#b8e186"
            ],
            [
             0.8,
             "#7fbc41"
            ],
            [
             0.9,
             "#4d9221"
            ],
            [
             1,
             "#276419"
            ]
           ],
           "sequential": [
            [
             0,
             "#0d0887"
            ],
            [
             0.1111111111111111,
             "#46039f"
            ],
            [
             0.2222222222222222,
             "#7201a8"
            ],
            [
             0.3333333333333333,
             "#9c179e"
            ],
            [
             0.4444444444444444,
             "#bd3786"
            ],
            [
             0.5555555555555556,
             "#d8576b"
            ],
            [
             0.6666666666666666,
             "#ed7953"
            ],
            [
             0.7777777777777778,
             "#fb9f3a"
            ],
            [
             0.8888888888888888,
             "#fdca26"
            ],
            [
             1,
             "#f0f921"
            ]
           ],
           "sequentialminus": [
            [
             0,
             "#0d0887"
            ],
            [
             0.1111111111111111,
             "#46039f"
            ],
            [
             0.2222222222222222,
             "#7201a8"
            ],
            [
             0.3333333333333333,
             "#9c179e"
            ],
            [
             0.4444444444444444,
             "#bd3786"
            ],
            [
             0.5555555555555556,
             "#d8576b"
            ],
            [
             0.6666666666666666,
             "#ed7953"
            ],
            [
             0.7777777777777778,
             "#fb9f3a"
            ],
            [
             0.8888888888888888,
             "#fdca26"
            ],
            [
             1,
             "#f0f921"
            ]
           ]
          },
          "colorway": [
           "#636efa",
           "#EF553B",
           "#00cc96",
           "#ab63fa",
           "#FFA15A",
           "#19d3f3",
           "#FF6692",
           "#B6E880",
           "#FF97FF",
           "#FECB52"
          ],
          "font": {
           "color": "#2a3f5f"
          },
          "geo": {
           "bgcolor": "white",
           "lakecolor": "white",
           "landcolor": "#E5ECF6",
           "showlakes": true,
           "showland": true,
           "subunitcolor": "white"
          },
          "hoverlabel": {
           "align": "left"
          },
          "hovermode": "closest",
          "mapbox": {
           "style": "light"
          },
          "paper_bgcolor": "white",
          "plot_bgcolor": "#E5ECF6",
          "polar": {
           "angularaxis": {
            "gridcolor": "white",
            "linecolor": "white",
            "ticks": ""
           },
           "bgcolor": "#E5ECF6",
           "radialaxis": {
            "gridcolor": "white",
            "linecolor": "white",
            "ticks": ""
           }
          },
          "scene": {
           "xaxis": {
            "backgroundcolor": "#E5ECF6",
            "gridcolor": "white",
            "gridwidth": 2,
            "linecolor": "white",
            "showbackground": true,
            "ticks": "",
            "zerolinecolor": "white"
           },
           "yaxis": {
            "backgroundcolor": "#E5ECF6",
            "gridcolor": "white",
            "gridwidth": 2,
            "linecolor": "white",
            "showbackground": true,
            "ticks": "",
            "zerolinecolor": "white"
           },
           "zaxis": {
            "backgroundcolor": "#E5ECF6",
            "gridcolor": "white",
            "gridwidth": 2,
            "linecolor": "white",
            "showbackground": true,
            "ticks": "",
            "zerolinecolor": "white"
           }
          },
          "shapedefaults": {
           "line": {
            "color": "#2a3f5f"
           }
          },
          "ternary": {
           "aaxis": {
            "gridcolor": "white",
            "linecolor": "white",
            "ticks": ""
           },
           "baxis": {
            "gridcolor": "white",
            "linecolor": "white",
            "ticks": ""
           },
           "bgcolor": "#E5ECF6",
           "caxis": {
            "gridcolor": "white",
            "linecolor": "white",
            "ticks": ""
           }
          },
          "title": {
           "x": 0.05
          },
          "xaxis": {
           "automargin": true,
           "gridcolor": "white",
           "linecolor": "white",
           "ticks": "",
           "title": {
            "standoff": 15
           },
           "zerolinecolor": "white",
           "zerolinewidth": 2
          },
          "yaxis": {
           "automargin": true,
           "gridcolor": "white",
           "linecolor": "white",
           "ticks": "",
           "title": {
            "standoff": 15
           },
           "zerolinecolor": "white",
           "zerolinewidth": 2
          }
         }
        },
        "title": {
         "text": "Netflix titles added 2008 - 2020"
        }
       }
      },
      "text/html": [
       "<div>                            <div id=\"ccb9c9e2-85e8-4163-8e91-2b6a6006e939\" class=\"plotly-graph-div\" style=\"height:525px; width:100%;\"></div>            <script type=\"text/javascript\">                require([\"plotly\"], function(Plotly) {                    window.PLOTLYENV=window.PLOTLYENV || {};                                    if (document.getElementById(\"ccb9c9e2-85e8-4163-8e91-2b6a6006e939\")) {                    Plotly.newPlot(                        \"ccb9c9e2-85e8-4163-8e91-2b6a6006e939\",                        [{\"colorbar\": {\"title\": {\"text\": \"Titles added\"}}, \"colorscale\": [[0.0, \"#440154\"], [0.1111111111111111, \"#482878\"], [0.2222222222222222, \"#3e4989\"], [0.3333333333333333, \"#31688e\"], [0.4444444444444444, \"#26828e\"], [0.5555555555555556, \"#1f9e89\"], [0.6666666666666666, \"#35b779\"], [0.7777777777777778, \"#6ece58\"], [0.8888888888888888, \"#b5de2b\"], [1.0, \"#fde725\"]], \"locations\": [\"USA\", \"IND\", \"GBR\", \"CAN\", \"FRA\", \"JPN\", \"ESP\", \"PRK\", \"DEU\", \"MEX\", \"AUS\", \"CHN\", \"HKG\", \"TUR\", \"TWN\", \"ARG\", \"ITA\", \"BRA\", \"BEL\", \"THA\", \"EGY\", \"IDN\", \"PHL\", \"DNK\", \"NLD\", \"COL\", \"NGA\", \"SWE\", \"IRL\", \"ZAF\", \"SGP\", \"POL\", \"ISR\", \"CHL\", \"PAK\", \"NZL\", \"MYS\", \"NOR\", \"RUS\", \"ARE\", \"CHE\", \"CZE\", \"AUT\", \"FIN\", \"URY\", \"PER\", \"LBN\", \"GRC\", \"BGR\", \"LUX\", \"ROU\", \"MAR\", \"ISL\", \"QAT\", \"JOR\", \"DEU\", \"SRB\", \"HUN\", \"IRN\", \"VNM\", \"HRV\", \"PRT\", \"BGD\", \"VEN\", \"SVN\", \"GBR\", \"UKR\", \"RUS\", \"KHM\", \"ZWE\", \"DOM\", \"IRQ\", \"GHA\", \"NPL\", \"MLT\", \"SAU\", \"SEN\", \"GEO\", \"PRY\", \"LIE\", \"KAZ\", \"SDN\", \"ARM\", \"BMU\", \"WSM\", \"SYR\", \"VAT\", \"LVA\", \"DEU\", \"ECU\", \"GTM\", \"NIC\", \"UGA\", \"NAM\", \"CUB\", \"CYM\", \"BWA\", \"PAN\", \"MUS\", \"MNE\", \"AFG\", \"KEN\", \"MWI\", \"MNG\", \"CYP\", \"ALB\", \"SVK\", \"SOM\", \"AZE\", \"KWT\", \"LKA\"], \"marker\": {\"line\": {\"color\": \"white\"}}, \"type\": \"choropleth\", \"z\": [2610, 838, 602, 318, 271, 231, 178, 162, 151, 129, 126, 120, 97, 87, 75, 68, 67, 66, 66, 56, 54, 52, 47, 38, 37, 36, 36, 33, 33, 30, 30, 27, 26, 23, 23, 23, 21, 21, 21, 21, 15, 15, 10, 9, 9, 9, 9, 8, 8, 7, 6, 6, 6, 6, 6, 5, 5, 5, 4, 4, 4, 4, 3, 3, 3, 3, 3, 3, 3, 2, 2, 2, 2, 2, 2, 2, 2, 2, 1, 1, 1, 1, 1, 1, 1, 1, 1, 1, 1, 1, 1, 1, 1, 1, 1, 1, 1, 1, 1, 1, 1, 1, 1, 1, 1, 1, 1, 1, 1, 1, 1]}],                        {\"geo\": {\"landcolor\": \"rgb(240,240,240)\", \"projection\": {\"type\": \"natural earth\"}, \"showcoastlines\": false, \"showframe\": false, \"showland\": true}, \"template\": {\"data\": {\"bar\": [{\"error_x\": {\"color\": \"#2a3f5f\"}, \"error_y\": {\"color\": \"#2a3f5f\"}, \"marker\": {\"line\": {\"color\": \"#E5ECF6\", \"width\": 0.5}}, \"type\": \"bar\"}], \"barpolar\": [{\"marker\": {\"line\": {\"color\": \"#E5ECF6\", \"width\": 0.5}}, \"type\": \"barpolar\"}], \"carpet\": [{\"aaxis\": {\"endlinecolor\": \"#2a3f5f\", \"gridcolor\": \"white\", \"linecolor\": \"white\", \"minorgridcolor\": \"white\", \"startlinecolor\": \"#2a3f5f\"}, \"baxis\": {\"endlinecolor\": \"#2a3f5f\", \"gridcolor\": \"white\", \"linecolor\": \"white\", \"minorgridcolor\": \"white\", \"startlinecolor\": \"#2a3f5f\"}, \"type\": \"carpet\"}], \"choropleth\": [{\"colorbar\": {\"outlinewidth\": 0, \"ticks\": \"\"}, \"type\": \"choropleth\"}], \"contour\": [{\"colorbar\": {\"outlinewidth\": 0, \"ticks\": \"\"}, \"colorscale\": [[0.0, \"#0d0887\"], [0.1111111111111111, \"#46039f\"], [0.2222222222222222, \"#7201a8\"], [0.3333333333333333, \"#9c179e\"], [0.4444444444444444, \"#bd3786\"], [0.5555555555555556, \"#d8576b\"], [0.6666666666666666, \"#ed7953\"], [0.7777777777777778, \"#fb9f3a\"], [0.8888888888888888, \"#fdca26\"], [1.0, \"#f0f921\"]], \"type\": \"contour\"}], \"contourcarpet\": [{\"colorbar\": {\"outlinewidth\": 0, \"ticks\": \"\"}, \"type\": \"contourcarpet\"}], \"heatmap\": [{\"colorbar\": {\"outlinewidth\": 0, \"ticks\": \"\"}, \"colorscale\": [[0.0, \"#0d0887\"], [0.1111111111111111, \"#46039f\"], [0.2222222222222222, \"#7201a8\"], [0.3333333333333333, \"#9c179e\"], [0.4444444444444444, \"#bd3786\"], [0.5555555555555556, \"#d8576b\"], [0.6666666666666666, \"#ed7953\"], [0.7777777777777778, \"#fb9f3a\"], [0.8888888888888888, \"#fdca26\"], [1.0, \"#f0f921\"]], \"type\": \"heatmap\"}], \"heatmapgl\": [{\"colorbar\": {\"outlinewidth\": 0, \"ticks\": \"\"}, \"colorscale\": [[0.0, \"#0d0887\"], [0.1111111111111111, \"#46039f\"], [0.2222222222222222, \"#7201a8\"], [0.3333333333333333, \"#9c179e\"], [0.4444444444444444, \"#bd3786\"], [0.5555555555555556, \"#d8576b\"], [0.6666666666666666, \"#ed7953\"], [0.7777777777777778, \"#fb9f3a\"], [0.8888888888888888, \"#fdca26\"], [1.0, \"#f0f921\"]], \"type\": \"heatmapgl\"}], \"histogram\": [{\"marker\": {\"colorbar\": {\"outlinewidth\": 0, \"ticks\": \"\"}}, \"type\": \"histogram\"}], \"histogram2d\": [{\"colorbar\": {\"outlinewidth\": 0, \"ticks\": \"\"}, \"colorscale\": [[0.0, \"#0d0887\"], [0.1111111111111111, \"#46039f\"], [0.2222222222222222, \"#7201a8\"], [0.3333333333333333, \"#9c179e\"], [0.4444444444444444, \"#bd3786\"], [0.5555555555555556, \"#d8576b\"], [0.6666666666666666, \"#ed7953\"], [0.7777777777777778, \"#fb9f3a\"], [0.8888888888888888, \"#fdca26\"], [1.0, \"#f0f921\"]], \"type\": \"histogram2d\"}], \"histogram2dcontour\": [{\"colorbar\": {\"outlinewidth\": 0, \"ticks\": \"\"}, \"colorscale\": [[0.0, \"#0d0887\"], [0.1111111111111111, \"#46039f\"], [0.2222222222222222, \"#7201a8\"], [0.3333333333333333, \"#9c179e\"], [0.4444444444444444, \"#bd3786\"], [0.5555555555555556, \"#d8576b\"], [0.6666666666666666, \"#ed7953\"], [0.7777777777777778, \"#fb9f3a\"], [0.8888888888888888, \"#fdca26\"], [1.0, \"#f0f921\"]], \"type\": \"histogram2dcontour\"}], \"mesh3d\": [{\"colorbar\": {\"outlinewidth\": 0, \"ticks\": \"\"}, \"type\": \"mesh3d\"}], \"parcoords\": [{\"line\": {\"colorbar\": {\"outlinewidth\": 0, \"ticks\": \"\"}}, \"type\": \"parcoords\"}], \"pie\": [{\"automargin\": true, \"type\": \"pie\"}], \"scatter\": [{\"marker\": {\"colorbar\": {\"outlinewidth\": 0, \"ticks\": \"\"}}, \"type\": \"scatter\"}], \"scatter3d\": [{\"line\": {\"colorbar\": {\"outlinewidth\": 0, \"ticks\": \"\"}}, \"marker\": {\"colorbar\": {\"outlinewidth\": 0, \"ticks\": \"\"}}, \"type\": \"scatter3d\"}], \"scattercarpet\": [{\"marker\": {\"colorbar\": {\"outlinewidth\": 0, \"ticks\": \"\"}}, \"type\": \"scattercarpet\"}], \"scattergeo\": [{\"marker\": {\"colorbar\": {\"outlinewidth\": 0, \"ticks\": \"\"}}, \"type\": \"scattergeo\"}], \"scattergl\": [{\"marker\": {\"colorbar\": {\"outlinewidth\": 0, \"ticks\": \"\"}}, \"type\": \"scattergl\"}], \"scattermapbox\": [{\"marker\": {\"colorbar\": {\"outlinewidth\": 0, \"ticks\": \"\"}}, \"type\": \"scattermapbox\"}], \"scatterpolar\": [{\"marker\": {\"colorbar\": {\"outlinewidth\": 0, \"ticks\": \"\"}}, \"type\": \"scatterpolar\"}], \"scatterpolargl\": [{\"marker\": {\"colorbar\": {\"outlinewidth\": 0, \"ticks\": \"\"}}, \"type\": \"scatterpolargl\"}], \"scatterternary\": [{\"marker\": {\"colorbar\": {\"outlinewidth\": 0, \"ticks\": \"\"}}, \"type\": \"scatterternary\"}], \"surface\": [{\"colorbar\": {\"outlinewidth\": 0, \"ticks\": \"\"}, \"colorscale\": [[0.0, \"#0d0887\"], [0.1111111111111111, \"#46039f\"], [0.2222222222222222, \"#7201a8\"], [0.3333333333333333, \"#9c179e\"], [0.4444444444444444, \"#bd3786\"], [0.5555555555555556, \"#d8576b\"], [0.6666666666666666, \"#ed7953\"], [0.7777777777777778, \"#fb9f3a\"], [0.8888888888888888, \"#fdca26\"], [1.0, \"#f0f921\"]], \"type\": \"surface\"}], \"table\": [{\"cells\": {\"fill\": {\"color\": \"#EBF0F8\"}, \"line\": {\"color\": \"white\"}}, \"header\": {\"fill\": {\"color\": \"#C8D4E3\"}, \"line\": {\"color\": \"white\"}}, \"type\": \"table\"}]}, \"layout\": {\"annotationdefaults\": {\"arrowcolor\": \"#2a3f5f\", \"arrowhead\": 0, \"arrowwidth\": 1}, \"autotypenumbers\": \"strict\", \"coloraxis\": {\"colorbar\": {\"outlinewidth\": 0, \"ticks\": \"\"}}, \"colorscale\": {\"diverging\": [[0, \"#8e0152\"], [0.1, \"#c51b7d\"], [0.2, \"#de77ae\"], [0.3, \"#f1b6da\"], [0.4, \"#fde0ef\"], [0.5, \"#f7f7f7\"], [0.6, \"#e6f5d0\"], [0.7, \"#b8e186\"], [0.8, \"#7fbc41\"], [0.9, \"#4d9221\"], [1, \"#276419\"]], \"sequential\": [[0.0, \"#0d0887\"], [0.1111111111111111, \"#46039f\"], [0.2222222222222222, \"#7201a8\"], [0.3333333333333333, \"#9c179e\"], [0.4444444444444444, \"#bd3786\"], [0.5555555555555556, \"#d8576b\"], [0.6666666666666666, \"#ed7953\"], [0.7777777777777778, \"#fb9f3a\"], [0.8888888888888888, \"#fdca26\"], [1.0, \"#f0f921\"]], \"sequentialminus\": [[0.0, \"#0d0887\"], [0.1111111111111111, \"#46039f\"], [0.2222222222222222, \"#7201a8\"], [0.3333333333333333, \"#9c179e\"], [0.4444444444444444, \"#bd3786\"], [0.5555555555555556, \"#d8576b\"], [0.6666666666666666, \"#ed7953\"], [0.7777777777777778, \"#fb9f3a\"], [0.8888888888888888, \"#fdca26\"], [1.0, \"#f0f921\"]]}, \"colorway\": [\"#636efa\", \"#EF553B\", \"#00cc96\", \"#ab63fa\", \"#FFA15A\", \"#19d3f3\", \"#FF6692\", \"#B6E880\", \"#FF97FF\", \"#FECB52\"], \"font\": {\"color\": \"#2a3f5f\"}, \"geo\": {\"bgcolor\": \"white\", \"lakecolor\": \"white\", \"landcolor\": \"#E5ECF6\", \"showlakes\": true, \"showland\": true, \"subunitcolor\": \"white\"}, \"hoverlabel\": {\"align\": \"left\"}, \"hovermode\": \"closest\", \"mapbox\": {\"style\": \"light\"}, \"paper_bgcolor\": \"white\", \"plot_bgcolor\": \"#E5ECF6\", \"polar\": {\"angularaxis\": {\"gridcolor\": \"white\", \"linecolor\": \"white\", \"ticks\": \"\"}, \"bgcolor\": \"#E5ECF6\", \"radialaxis\": {\"gridcolor\": \"white\", \"linecolor\": \"white\", \"ticks\": \"\"}}, \"scene\": {\"xaxis\": {\"backgroundcolor\": \"#E5ECF6\", \"gridcolor\": \"white\", \"gridwidth\": 2, \"linecolor\": \"white\", \"showbackground\": true, \"ticks\": \"\", \"zerolinecolor\": \"white\"}, \"yaxis\": {\"backgroundcolor\": \"#E5ECF6\", \"gridcolor\": \"white\", \"gridwidth\": 2, \"linecolor\": \"white\", \"showbackground\": true, \"ticks\": \"\", \"zerolinecolor\": \"white\"}, \"zaxis\": {\"backgroundcolor\": \"#E5ECF6\", \"gridcolor\": \"white\", \"gridwidth\": 2, \"linecolor\": \"white\", \"showbackground\": true, \"ticks\": \"\", \"zerolinecolor\": \"white\"}}, \"shapedefaults\": {\"line\": {\"color\": \"#2a3f5f\"}}, \"ternary\": {\"aaxis\": {\"gridcolor\": \"white\", \"linecolor\": \"white\", \"ticks\": \"\"}, \"baxis\": {\"gridcolor\": \"white\", \"linecolor\": \"white\", \"ticks\": \"\"}, \"bgcolor\": \"#E5ECF6\", \"caxis\": {\"gridcolor\": \"white\", \"linecolor\": \"white\", \"ticks\": \"\"}}, \"title\": {\"x\": 0.05}, \"xaxis\": {\"automargin\": true, \"gridcolor\": \"white\", \"linecolor\": \"white\", \"ticks\": \"\", \"title\": {\"standoff\": 15}, \"zerolinecolor\": \"white\", \"zerolinewidth\": 2}, \"yaxis\": {\"automargin\": true, \"gridcolor\": \"white\", \"linecolor\": \"white\", \"ticks\": \"\", \"title\": {\"standoff\": 15}, \"zerolinecolor\": \"white\", \"zerolinewidth\": 2}}}, \"title\": {\"text\": \"Netflix titles added 2008 - 2020\"}},                        {\"responsive\": true}                    ).then(function(){\n",
       "                            \n",
       "var gd = document.getElementById('ccb9c9e2-85e8-4163-8e91-2b6a6006e939');\n",
       "var x = new MutationObserver(function (mutations, observer) {{\n",
       "        var display = window.getComputedStyle(gd).display;\n",
       "        if (!display || display === 'none') {{\n",
       "            console.log([gd, 'removed!']);\n",
       "            Plotly.purge(gd);\n",
       "            observer.disconnect();\n",
       "        }}\n",
       "}});\n",
       "\n",
       "// Listen for the removal of the full notebook cells\n",
       "var notebookContainer = gd.closest('#notebook-container');\n",
       "if (notebookContainer) {{\n",
       "    x.observe(notebookContainer, {childList: true});\n",
       "}}\n",
       "\n",
       "// Listen for the clearing of the current output cell\n",
       "var outputEl = gd.closest('.output');\n",
       "if (outputEl) {{\n",
       "    x.observe(outputEl, {childList: true});\n",
       "}}\n",
       "\n",
       "                        })                };                });            </script>        </div>"
      ]
     },
     "metadata": {},
     "output_type": "display_data"
    }
   ],
   "source": [
    "mapdata = dict(type='choropleth', \n",
    "           locations = countriesdf['Code'], \n",
    "           z=countriesdf['Count'], \n",
    "           colorbar={'title':'Titles added'}, \n",
    "           colorscale='viridis',\n",
    "               marker_line_color='white')\n",
    "\n",
    "layout = dict(title = 'Netflix titles added 2008 - 2020', \n",
    "             geo = dict(\n",
    "             showframe = False, \n",
    "             projection = {'type':'natural earth'}))\n",
    "\n",
    "fig = go.Figure(data=[mapdata], layout=layout)\n",
    "fig.update_geos(showland=True, landcolor='rgb(240,240,240)', showcoastlines=False)"
   ]
  },
  {
   "cell_type": "code",
   "execution_count": 318,
   "metadata": {},
   "outputs": [
    {
     "data": {
      "image/png": "[encoded data removed]",
      "text/plain": [
       "<Figure size 1080x504 with 1 Axes>"
      ]
     },
     "metadata": {
      "needs_background": "light"
     },
     "output_type": "display_data"
    }
   ],
   "source": [
    "ax = countriesdf.plot(kind='hist', bins=20, figsize=(15, 7 ))\n",
    "ax.set_xlabel('Number of titles added')\n",
    "ax.set_title('Distribution of new titles added per country')\n",
    "#add height label to bins\n",
    "for p in ax.patches:\n",
    "    ax.annotate(str(p.get_height()), (p.get_x() + (p.get_width()/10), p.get_height() + 2))"
   ]
  },
  {
   "cell_type": "code",
   "execution_count": 326,
   "metadata": {},
   "outputs": [
    {
     "data": {
      "image/png": "[encoded data removed]",
      "text/plain": [
       "<Figure size 1080x1440 with 1 Axes>"
      ]
     },
     "metadata": {
      "needs_background": "light"
     },
     "output_type": "display_data"
    }
   ],
   "source": [
    "ax = countriesdf.plot(kind='barh', figsize=(15, 20), x='Country')\n",
    "for p in ax.patches: \n",
    "    ax.annotate(str(p.get_width()), (p.get_width() + 5, p.get_y()))"
   ]
  },
  {
   "cell_type": "markdown",
   "metadata": {},
   "source": [
    "## Observations based on charts\n",
    "The figures above clearly show that again, most of the audiences served are receiving far less content than the top Country, the USA. \n",
    "\n",
    "Looking at the histogram, it shows that the majority of countries, 108 of them or 97%, received less than 500 titles each, and that there was only one instance of a country receiving over 1,000 titles. The single instance of a country with more than 1,000 titles added was the USA at 2,610. This is another example of an extraploation of the Pareto principle, showing that only 3% of total countries is responsible for over 36% of offerings growth. \n",
    "\n",
    "Further still, now moving on to the bar chart - Of the 7,182 observations, 2,610 of those went to the USA. That's over 3 times the second most served market of India with only 838 titles. Clearly the USA is the favoured market, and receives a disproportionate share of the title additions in comparison with other countries. \n",
    "\n",
    "The top five markets - representing only 0.45% of the available countries, USA, India, United Kingdom, Canada, and France account for 4,638 titles, which represents over 60% of the total number of titles added. "
   ]
  },
  {
   "cell_type": "code",
   "execution_count": 344,
   "metadata": {},
   "outputs": [
    {
     "data": {
      "text/html": [
       "<div>\n",
       "<style scoped>\n",
       "    .dataframe tbody tr th:only-of-type {\n",
       "        vertical-align: middle;\n",
       "    }\n",
       "\n",
       "    .dataframe tbody tr th {\n",
       "        vertical-align: top;\n",
       "    }\n",
       "\n",
       "    .dataframe thead th {\n",
       "        text-align: right;\n",
       "    }\n",
       "</style>\n",
       "<table border=\"1\" class=\"dataframe\">\n",
       "  <thead>\n",
       "    <tr style=\"text-align: right;\">\n",
       "      <th></th>\n",
       "      <th>show_id</th>\n",
       "      <th>type</th>\n",
       "      <th>country</th>\n",
       "      <th>date_added</th>\n",
       "      <th>duration</th>\n",
       "      <th>listed_in</th>\n",
       "    </tr>\n",
       "  </thead>\n",
       "  <tbody>\n",
       "    <tr>\n",
       "      <th>0</th>\n",
       "      <td>81145628</td>\n",
       "      <td>Movie</td>\n",
       "      <td>United States, India, South Korea, China</td>\n",
       "      <td>2019-09-09</td>\n",
       "      <td>90 min</td>\n",
       "      <td>Children &amp; Family Movies, Comedies</td>\n",
       "    </tr>\n",
       "    <tr>\n",
       "      <th>1</th>\n",
       "      <td>80117401</td>\n",
       "      <td>Movie</td>\n",
       "      <td>United Kingdom</td>\n",
       "      <td>2016-09-09</td>\n",
       "      <td>94 min</td>\n",
       "      <td>Stand-Up Comedy</td>\n",
       "    </tr>\n",
       "    <tr>\n",
       "      <th>2</th>\n",
       "      <td>70234439</td>\n",
       "      <td>TV Show</td>\n",
       "      <td>United States</td>\n",
       "      <td>2018-09-08</td>\n",
       "      <td>1 Season</td>\n",
       "      <td>Kids' TV</td>\n",
       "    </tr>\n",
       "    <tr>\n",
       "      <th>3</th>\n",
       "      <td>80058654</td>\n",
       "      <td>TV Show</td>\n",
       "      <td>United States</td>\n",
       "      <td>2018-09-08</td>\n",
       "      <td>1 Season</td>\n",
       "      <td>Kids' TV</td>\n",
       "    </tr>\n",
       "    <tr>\n",
       "      <th>4</th>\n",
       "      <td>80125979</td>\n",
       "      <td>Movie</td>\n",
       "      <td>United States</td>\n",
       "      <td>2017-09-08</td>\n",
       "      <td>99 min</td>\n",
       "      <td>Comedies</td>\n",
       "    </tr>\n",
       "  </tbody>\n",
       "</table>\n",
       "</div>"
      ],
      "text/plain": [
       "    show_id     type                                   country date_added  \\\n",
       "0  81145628    Movie  United States, India, South Korea, China 2019-09-09   \n",
       "1  80117401    Movie                            United Kingdom 2016-09-09   \n",
       "2  70234439  TV Show                             United States 2018-09-08   \n",
       "3  80058654  TV Show                             United States 2018-09-08   \n",
       "4  80125979    Movie                             United States 2017-09-08   \n",
       "\n",
       "   duration                           listed_in  \n",
       "0    90 min  Children & Family Movies, Comedies  \n",
       "1    94 min                     Stand-Up Comedy  \n",
       "2  1 Season                            Kids' TV  \n",
       "3  1 Season                            Kids' TV  \n",
       "4    99 min                            Comedies  "
      ]
     },
     "execution_count": 344,
     "metadata": {},
     "output_type": "execute_result"
    }
   ],
   "source": [
    "df.head()"
   ]
  },
  {
   "cell_type": "code",
   "execution_count": 362,
   "metadata": {},
   "outputs": [],
   "source": [
    "import numpy as np"
   ]
  },
  {
   "cell_type": "code",
   "execution_count": 446,
   "metadata": {},
   "outputs": [],
   "source": [
    "# row = countries\n",
    "# columns = genre\n",
    "heatmap = pd.DataFrame({'Country': []})"
   ]
  },
  {
   "cell_type": "code",
   "execution_count": 447,
   "metadata": {},
   "outputs": [
    {
     "data": {
      "text/html": [
       "<div>\n",
       "<style scoped>\n",
       "    .dataframe tbody tr th:only-of-type {\n",
       "        vertical-align: middle;\n",
       "    }\n",
       "\n",
       "    .dataframe tbody tr th {\n",
       "        vertical-align: top;\n",
       "    }\n",
       "\n",
       "    .dataframe thead th {\n",
       "        text-align: right;\n",
       "    }\n",
       "</style>\n",
       "<table border=\"1\" class=\"dataframe\">\n",
       "  <thead>\n",
       "    <tr style=\"text-align: right;\">\n",
       "      <th></th>\n",
       "      <th>Country</th>\n",
       "      <th>Children &amp; Family Movies</th>\n",
       "      <th>Comedies</th>\n",
       "      <th>Stand-Up Comedy</th>\n",
       "      <th>Kids' TV</th>\n",
       "      <th>Crime TV Shows</th>\n",
       "      <th>International TV Shows</th>\n",
       "      <th>Spanish-Language TV Shows</th>\n",
       "      <th>International Movies</th>\n",
       "      <th>Sci-Fi &amp; Fantasy</th>\n",
       "      <th>...</th>\n",
       "      <th>Anime Series</th>\n",
       "      <th>LGBTQ Movies</th>\n",
       "      <th>TV Horror</th>\n",
       "      <th>Movies</th>\n",
       "      <th>Stand-Up Comedy &amp; Talk Shows</th>\n",
       "      <th>TV Sci-Fi &amp; Fantasy</th>\n",
       "      <th>Classic Movies</th>\n",
       "      <th>Sports Movies</th>\n",
       "      <th>TV Shows</th>\n",
       "      <th>Classic &amp; Cult TV</th>\n",
       "    </tr>\n",
       "  </thead>\n",
       "  <tbody>\n",
       "    <tr>\n",
       "      <th>0</th>\n",
       "      <td>United States</td>\n",
       "      <td>258</td>\n",
       "      <td>447</td>\n",
       "      <td>186</td>\n",
       "      <td>157</td>\n",
       "      <td>115</td>\n",
       "      <td>56</td>\n",
       "      <td>25</td>\n",
       "      <td>116</td>\n",
       "      <td>134</td>\n",
       "      <td>...</td>\n",
       "      <td>9</td>\n",
       "      <td>39</td>\n",
       "      <td>30</td>\n",
       "      <td>23</td>\n",
       "      <td>27</td>\n",
       "      <td>50</td>\n",
       "      <td>61</td>\n",
       "      <td>84</td>\n",
       "      <td>3</td>\n",
       "      <td>16</td>\n",
       "    </tr>\n",
       "    <tr>\n",
       "      <th>0</th>\n",
       "      <td>India</td>\n",
       "      <td>15</td>\n",
       "      <td>246</td>\n",
       "      <td>1</td>\n",
       "      <td>5</td>\n",
       "      <td>7</td>\n",
       "      <td>48</td>\n",
       "      <td>0</td>\n",
       "      <td>719</td>\n",
       "      <td>11</td>\n",
       "      <td>...</td>\n",
       "      <td>0</td>\n",
       "      <td>2</td>\n",
       "      <td>6</td>\n",
       "      <td>0</td>\n",
       "      <td>1</td>\n",
       "      <td>3</td>\n",
       "      <td>12</td>\n",
       "      <td>14</td>\n",
       "      <td>2</td>\n",
       "      <td>0</td>\n",
       "    </tr>\n",
       "    <tr>\n",
       "      <th>0</th>\n",
       "      <td>South Korea</td>\n",
       "      <td>5</td>\n",
       "      <td>10</td>\n",
       "      <td>2</td>\n",
       "      <td>16</td>\n",
       "      <td>16</td>\n",
       "      <td>97</td>\n",
       "      <td>1</td>\n",
       "      <td>34</td>\n",
       "      <td>4</td>\n",
       "      <td>...</td>\n",
       "      <td>1</td>\n",
       "      <td>0</td>\n",
       "      <td>0</td>\n",
       "      <td>1</td>\n",
       "      <td>4</td>\n",
       "      <td>0</td>\n",
       "      <td>0</td>\n",
       "      <td>0</td>\n",
       "      <td>0</td>\n",
       "      <td>0</td>\n",
       "    </tr>\n",
       "    <tr>\n",
       "      <th>0</th>\n",
       "      <td>China</td>\n",
       "      <td>9</td>\n",
       "      <td>23</td>\n",
       "      <td>0</td>\n",
       "      <td>4</td>\n",
       "      <td>4</td>\n",
       "      <td>31</td>\n",
       "      <td>0</td>\n",
       "      <td>59</td>\n",
       "      <td>11</td>\n",
       "      <td>...</td>\n",
       "      <td>0</td>\n",
       "      <td>0</td>\n",
       "      <td>0</td>\n",
       "      <td>0</td>\n",
       "      <td>0</td>\n",
       "      <td>3</td>\n",
       "      <td>0</td>\n",
       "      <td>0</td>\n",
       "      <td>0</td>\n",
       "      <td>0</td>\n",
       "    </tr>\n",
       "    <tr>\n",
       "      <th>0</th>\n",
       "      <td>United Kingdom</td>\n",
       "      <td>24</td>\n",
       "      <td>67</td>\n",
       "      <td>17</td>\n",
       "      <td>21</td>\n",
       "      <td>43</td>\n",
       "      <td>106</td>\n",
       "      <td>1</td>\n",
       "      <td>126</td>\n",
       "      <td>28</td>\n",
       "      <td>...</td>\n",
       "      <td>0</td>\n",
       "      <td>4</td>\n",
       "      <td>4</td>\n",
       "      <td>3</td>\n",
       "      <td>1</td>\n",
       "      <td>3</td>\n",
       "      <td>11</td>\n",
       "      <td>18</td>\n",
       "      <td>0</td>\n",
       "      <td>6</td>\n",
       "    </tr>\n",
       "    <tr>\n",
       "      <th>...</th>\n",
       "      <td>...</td>\n",
       "      <td>...</td>\n",
       "      <td>...</td>\n",
       "      <td>...</td>\n",
       "      <td>...</td>\n",
       "      <td>...</td>\n",
       "      <td>...</td>\n",
       "      <td>...</td>\n",
       "      <td>...</td>\n",
       "      <td>...</td>\n",
       "      <td>...</td>\n",
       "      <td>...</td>\n",
       "      <td>...</td>\n",
       "      <td>...</td>\n",
       "      <td>...</td>\n",
       "      <td>...</td>\n",
       "      <td>...</td>\n",
       "      <td>...</td>\n",
       "      <td>...</td>\n",
       "      <td>...</td>\n",
       "      <td>...</td>\n",
       "    </tr>\n",
       "    <tr>\n",
       "      <th>0</th>\n",
       "      <td>Bermuda</td>\n",
       "      <td>0</td>\n",
       "      <td>0</td>\n",
       "      <td>0</td>\n",
       "      <td>0</td>\n",
       "      <td>0</td>\n",
       "      <td>0</td>\n",
       "      <td>0</td>\n",
       "      <td>0</td>\n",
       "      <td>0</td>\n",
       "      <td>...</td>\n",
       "      <td>0</td>\n",
       "      <td>0</td>\n",
       "      <td>0</td>\n",
       "      <td>0</td>\n",
       "      <td>0</td>\n",
       "      <td>0</td>\n",
       "      <td>0</td>\n",
       "      <td>0</td>\n",
       "      <td>0</td>\n",
       "      <td>0</td>\n",
       "    </tr>\n",
       "    <tr>\n",
       "      <th>0</th>\n",
       "      <td>Ecuador</td>\n",
       "      <td>0</td>\n",
       "      <td>0</td>\n",
       "      <td>0</td>\n",
       "      <td>0</td>\n",
       "      <td>0</td>\n",
       "      <td>0</td>\n",
       "      <td>0</td>\n",
       "      <td>0</td>\n",
       "      <td>0</td>\n",
       "      <td>...</td>\n",
       "      <td>0</td>\n",
       "      <td>0</td>\n",
       "      <td>0</td>\n",
       "      <td>0</td>\n",
       "      <td>0</td>\n",
       "      <td>0</td>\n",
       "      <td>0</td>\n",
       "      <td>0</td>\n",
       "      <td>0</td>\n",
       "      <td>0</td>\n",
       "    </tr>\n",
       "    <tr>\n",
       "      <th>0</th>\n",
       "      <td>Syria</td>\n",
       "      <td>0</td>\n",
       "      <td>0</td>\n",
       "      <td>0</td>\n",
       "      <td>0</td>\n",
       "      <td>0</td>\n",
       "      <td>1</td>\n",
       "      <td>0</td>\n",
       "      <td>0</td>\n",
       "      <td>0</td>\n",
       "      <td>...</td>\n",
       "      <td>0</td>\n",
       "      <td>0</td>\n",
       "      <td>0</td>\n",
       "      <td>0</td>\n",
       "      <td>0</td>\n",
       "      <td>0</td>\n",
       "      <td>0</td>\n",
       "      <td>0</td>\n",
       "      <td>0</td>\n",
       "      <td>0</td>\n",
       "    </tr>\n",
       "    <tr>\n",
       "      <th>0</th>\n",
       "      <td>Kuwait</td>\n",
       "      <td>0</td>\n",
       "      <td>0</td>\n",
       "      <td>0</td>\n",
       "      <td>0</td>\n",
       "      <td>0</td>\n",
       "      <td>1</td>\n",
       "      <td>0</td>\n",
       "      <td>0</td>\n",
       "      <td>0</td>\n",
       "      <td>...</td>\n",
       "      <td>0</td>\n",
       "      <td>0</td>\n",
       "      <td>0</td>\n",
       "      <td>0</td>\n",
       "      <td>0</td>\n",
       "      <td>0</td>\n",
       "      <td>0</td>\n",
       "      <td>0</td>\n",
       "      <td>0</td>\n",
       "      <td>0</td>\n",
       "    </tr>\n",
       "    <tr>\n",
       "      <th>0</th>\n",
       "      <td>Cyprus</td>\n",
       "      <td>0</td>\n",
       "      <td>0</td>\n",
       "      <td>0</td>\n",
       "      <td>1</td>\n",
       "      <td>0</td>\n",
       "      <td>0</td>\n",
       "      <td>0</td>\n",
       "      <td>0</td>\n",
       "      <td>0</td>\n",
       "      <td>...</td>\n",
       "      <td>0</td>\n",
       "      <td>0</td>\n",
       "      <td>0</td>\n",
       "      <td>0</td>\n",
       "      <td>0</td>\n",
       "      <td>0</td>\n",
       "      <td>0</td>\n",
       "      <td>0</td>\n",
       "      <td>0</td>\n",
       "      <td>0</td>\n",
       "    </tr>\n",
       "  </tbody>\n",
       "</table>\n",
       "<p>111 rows × 43 columns</p>\n",
       "</div>"
      ],
      "text/plain": [
       "           Country  Children & Family Movies  Comedies  Stand-Up Comedy  \\\n",
       "0    United States                       258       447              186   \n",
       "0            India                        15       246                1   \n",
       "0      South Korea                         5        10                2   \n",
       "0            China                         9        23                0   \n",
       "0   United Kingdom                        24        67               17   \n",
       "..             ...                       ...       ...              ...   \n",
       "0          Bermuda                         0         0                0   \n",
       "0          Ecuador                         0         0                0   \n",
       "0            Syria                         0         0                0   \n",
       "0           Kuwait                         0         0                0   \n",
       "0           Cyprus                         0         0                0   \n",
       "\n",
       "    Kids' TV  Crime TV Shows  International TV Shows  \\\n",
       "0        157             115                      56   \n",
       "0          5               7                      48   \n",
       "0         16              16                      97   \n",
       "0          4               4                      31   \n",
       "0         21              43                     106   \n",
       "..       ...             ...                     ...   \n",
       "0          0               0                       0   \n",
       "0          0               0                       0   \n",
       "0          0               0                       1   \n",
       "0          0               0                       1   \n",
       "0          1               0                       0   \n",
       "\n",
       "    Spanish-Language TV Shows  International Movies  Sci-Fi & Fantasy  ...  \\\n",
       "0                          25                   116               134  ...   \n",
       "0                           0                   719                11  ...   \n",
       "0                           1                    34                 4  ...   \n",
       "0                           0                    59                11  ...   \n",
       "0                           1                   126                28  ...   \n",
       "..                        ...                   ...               ...  ...   \n",
       "0                           0                     0                 0  ...   \n",
       "0                           0                     0                 0  ...   \n",
       "0                           0                     0                 0  ...   \n",
       "0                           0                     0                 0  ...   \n",
       "0                           0                     0                 0  ...   \n",
       "\n",
       "    Anime Series  LGBTQ Movies  TV Horror  Movies  \\\n",
       "0              9            39         30      23   \n",
       "0              0             2          6       0   \n",
       "0              1             0          0       1   \n",
       "0              0             0          0       0   \n",
       "0              0             4          4       3   \n",
       "..           ...           ...        ...     ...   \n",
       "0              0             0          0       0   \n",
       "0              0             0          0       0   \n",
       "0              0             0          0       0   \n",
       "0              0             0          0       0   \n",
       "0              0             0          0       0   \n",
       "\n",
       "    Stand-Up Comedy & Talk Shows  TV Sci-Fi & Fantasy  Classic Movies  \\\n",
       "0                             27                   50              61   \n",
       "0                              1                    3              12   \n",
       "0                              4                    0               0   \n",
       "0                              0                    3               0   \n",
       "0                              1                    3              11   \n",
       "..                           ...                  ...             ...   \n",
       "0                              0                    0               0   \n",
       "0                              0                    0               0   \n",
       "0                              0                    0               0   \n",
       "0                              0                    0               0   \n",
       "0                              0                    0               0   \n",
       "\n",
       "    Sports Movies  TV Shows  Classic & Cult TV  \n",
       "0              84         3                 16  \n",
       "0              14         2                  0  \n",
       "0               0         0                  0  \n",
       "0               0         0                  0  \n",
       "0              18         0                  6  \n",
       "..            ...       ...                ...  \n",
       "0               0         0                  0  \n",
       "0               0         0                  0  \n",
       "0               0         0                  0  \n",
       "0               0         0                  0  \n",
       "0               0         0                  0  \n",
       "\n",
       "[111 rows x 43 columns]"
      ]
     },
     "execution_count": 447,
     "metadata": {},
     "output_type": "execute_result"
    }
   ],
   "source": [
    "#not working - maybe change the country col to an index?\n",
    "\n",
    "for index, row in df[['country', 'listed_in']].iterrows(): \n",
    "    if isinstance(row['country'], str) and isinstance(row['listed_in'], str):\n",
    "        countriess = row['country'].split(',')\n",
    "        genres = row['listed_in'].split(',')\n",
    "        for c in countriess: \n",
    "            c = c.strip()\n",
    "            for g in genres:\n",
    "                g = g.strip()\n",
    "                #if a column exists for this genre\n",
    "                if g in heatmap.columns: \n",
    "                    #if a row exists for this country\n",
    "                    if (heatmap['Country'] == c).any(): \n",
    "                        #increment the cell at [country, genre]\n",
    "                        heatmap.loc[heatmap['Country'] == c, g] = heatmap.loc[heatmap['Country'] == c, g] + 1\n",
    "                    #if row doesn't exist\n",
    "                    else:\n",
    "                        #add a new row. Create a df with the columns of the current df,\n",
    "                        #add a country name, and a genre count, then append to heatmap. \n",
    "                        newrow = {}\n",
    "                        for col in heatmap.columns: \n",
    "                            newrow[col] = [0]\n",
    "                            \n",
    "                        newrow = pd.DataFrame(newrow) \n",
    "                        newrow['Country'] = c\n",
    "                        newrow[g] = 1\n",
    "                        heatmap = heatmap.append(newrow)\n",
    "                #if the column does not exist\n",
    "                else:\n",
    "                    #create the column\n",
    "                    heatmap[g] = 0\n",
    "                    #if a row for this country exists\n",
    "                    if (heatmap['Country'] == c).any(): \n",
    "                        #increment the cell at [country, genre]\n",
    "                        heatmap.loc[heatmap['Country'] == c, g] = 1\n",
    "                    #if a row for this country does not exist\n",
    "                    else: \n",
    "                        #add a new row. Create a df with the columns of the current df,\n",
    "                        #add a country name, and a genre count, then append to heatmap. \n",
    "                        newrow = {}\n",
    "                        for col in heatmap.columns: \n",
    "                            newrow[col] = [0]\n",
    "                            \n",
    "                        newrow = pd.DataFrame(newrow)\n",
    "                        newrow['Country'] = c\n",
    "                        newrow[g] = 1\n",
    "                        heatmap = heatmap.append(newrow)\n",
    "                \n",
    "                \n",
    "heatmap"
   ]
  },
  {
   "cell_type": "code",
   "execution_count": 450,
   "metadata": {},
   "outputs": [
    {
     "data": {
      "text/plain": [
       "<AxesSubplot:ylabel='Country'>"
      ]
     },
     "execution_count": 450,
     "metadata": {},
     "output_type": "execute_result"
    },
    {
     "data": {
      "image/png": "[encoded data removed]",
      "text/plain": [
       "<Figure size 720x720 with 2 Axes>"
      ]
     },
     "metadata": {
      "needs_background": "light"
     },
     "output_type": "display_data"
    }
   ],
   "source": [
    "import seaborn as sns \n",
    "import matplotlib.pyplot as plt\n",
    "\n",
    "heatmap = heatmap.set_index('Country')\n",
    "plt.subplots(figsize=(10,10))\n",
    "sns.heatmap(heatmap)"
   ]
  },
  {
   "cell_type": "code",
   "execution_count": 494,
   "metadata": {},
   "outputs": [
    {
     "data": {
      "text/html": [
       "<div>\n",
       "<style scoped>\n",
       "    .dataframe tbody tr th:only-of-type {\n",
       "        vertical-align: middle;\n",
       "    }\n",
       "\n",
       "    .dataframe tbody tr th {\n",
       "        vertical-align: top;\n",
       "    }\n",
       "\n",
       "    .dataframe thead th {\n",
       "        text-align: right;\n",
       "    }\n",
       "</style>\n",
       "<table border=\"1\" class=\"dataframe\">\n",
       "  <thead>\n",
       "    <tr style=\"text-align: right;\">\n",
       "      <th></th>\n",
       "      <th>Crime TV Shows</th>\n",
       "      <th>Spanish-Language TV Shows</th>\n",
       "      <th>Science &amp; Nature TV</th>\n",
       "      <th>Cult Movies</th>\n",
       "      <th>Independent Movies</th>\n",
       "      <th>TV Mysteries</th>\n",
       "      <th>British TV Shows</th>\n",
       "      <th>Music &amp; Musicals</th>\n",
       "      <th>Reality TV</th>\n",
       "      <th>Teen TV Shows</th>\n",
       "      <th>...</th>\n",
       "      <th>comedy</th>\n",
       "      <th>international</th>\n",
       "      <th>drama</th>\n",
       "      <th>documentary</th>\n",
       "      <th>horror</th>\n",
       "      <th>thriller</th>\n",
       "      <th>romantic</th>\n",
       "      <th>action and adventure</th>\n",
       "      <th>scifi</th>\n",
       "      <th>anime</th>\n",
       "    </tr>\n",
       "    <tr>\n",
       "      <th>Country</th>\n",
       "      <th></th>\n",
       "      <th></th>\n",
       "      <th></th>\n",
       "      <th></th>\n",
       "      <th></th>\n",
       "      <th></th>\n",
       "      <th></th>\n",
       "      <th></th>\n",
       "      <th></th>\n",
       "      <th></th>\n",
       "      <th></th>\n",
       "      <th></th>\n",
       "      <th></th>\n",
       "      <th></th>\n",
       "      <th></th>\n",
       "      <th></th>\n",
       "      <th></th>\n",
       "      <th></th>\n",
       "      <th></th>\n",
       "      <th></th>\n",
       "      <th></th>\n",
       "    </tr>\n",
       "  </thead>\n",
       "  <tbody>\n",
       "    <tr>\n",
       "      <th>United States</th>\n",
       "      <td>115</td>\n",
       "      <td>25</td>\n",
       "      <td>31</td>\n",
       "      <td>37</td>\n",
       "      <td>287</td>\n",
       "      <td>44</td>\n",
       "      <td>22</td>\n",
       "      <td>77</td>\n",
       "      <td>67</td>\n",
       "      <td>20</td>\n",
       "      <td>...</td>\n",
       "      <td>855</td>\n",
       "      <td>172</td>\n",
       "      <td>722</td>\n",
       "      <td>535</td>\n",
       "      <td>175</td>\n",
       "      <td>225</td>\n",
       "      <td>160</td>\n",
       "      <td>320</td>\n",
       "      <td>184</td>\n",
       "      <td>12</td>\n",
       "    </tr>\n",
       "    <tr>\n",
       "      <th>India</th>\n",
       "      <td>7</td>\n",
       "      <td>0</td>\n",
       "      <td>0</td>\n",
       "      <td>4</td>\n",
       "      <td>128</td>\n",
       "      <td>3</td>\n",
       "      <td>0</td>\n",
       "      <td>92</td>\n",
       "      <td>2</td>\n",
       "      <td>1</td>\n",
       "      <td>...</td>\n",
       "      <td>263</td>\n",
       "      <td>767</td>\n",
       "      <td>560</td>\n",
       "      <td>30</td>\n",
       "      <td>37</td>\n",
       "      <td>75</td>\n",
       "      <td>97</td>\n",
       "      <td>130</td>\n",
       "      <td>14</td>\n",
       "      <td>0</td>\n",
       "    </tr>\n",
       "    <tr>\n",
       "      <th>South Korea</th>\n",
       "      <td>16</td>\n",
       "      <td>1</td>\n",
       "      <td>0</td>\n",
       "      <td>1</td>\n",
       "      <td>2</td>\n",
       "      <td>0</td>\n",
       "      <td>0</td>\n",
       "      <td>1</td>\n",
       "      <td>4</td>\n",
       "      <td>0</td>\n",
       "      <td>...</td>\n",
       "      <td>23</td>\n",
       "      <td>131</td>\n",
       "      <td>41</td>\n",
       "      <td>2</td>\n",
       "      <td>3</td>\n",
       "      <td>12</td>\n",
       "      <td>50</td>\n",
       "      <td>22</td>\n",
       "      <td>4</td>\n",
       "      <td>1</td>\n",
       "    </tr>\n",
       "    <tr>\n",
       "      <th>China</th>\n",
       "      <td>4</td>\n",
       "      <td>0</td>\n",
       "      <td>0</td>\n",
       "      <td>1</td>\n",
       "      <td>1</td>\n",
       "      <td>1</td>\n",
       "      <td>1</td>\n",
       "      <td>1</td>\n",
       "      <td>0</td>\n",
       "      <td>3</td>\n",
       "      <td>...</td>\n",
       "      <td>32</td>\n",
       "      <td>90</td>\n",
       "      <td>44</td>\n",
       "      <td>6</td>\n",
       "      <td>1</td>\n",
       "      <td>4</td>\n",
       "      <td>27</td>\n",
       "      <td>53</td>\n",
       "      <td>14</td>\n",
       "      <td>1</td>\n",
       "    </tr>\n",
       "    <tr>\n",
       "      <th>United Kingdom</th>\n",
       "      <td>43</td>\n",
       "      <td>1</td>\n",
       "      <td>25</td>\n",
       "      <td>5</td>\n",
       "      <td>52</td>\n",
       "      <td>3</td>\n",
       "      <td>192</td>\n",
       "      <td>23</td>\n",
       "      <td>27</td>\n",
       "      <td>0</td>\n",
       "      <td>...</td>\n",
       "      <td>123</td>\n",
       "      <td>232</td>\n",
       "      <td>149</td>\n",
       "      <td>188</td>\n",
       "      <td>26</td>\n",
       "      <td>46</td>\n",
       "      <td>32</td>\n",
       "      <td>65</td>\n",
       "      <td>31</td>\n",
       "      <td>0</td>\n",
       "    </tr>\n",
       "    <tr>\n",
       "      <th>...</th>\n",
       "      <td>...</td>\n",
       "      <td>...</td>\n",
       "      <td>...</td>\n",
       "      <td>...</td>\n",
       "      <td>...</td>\n",
       "      <td>...</td>\n",
       "      <td>...</td>\n",
       "      <td>...</td>\n",
       "      <td>...</td>\n",
       "      <td>...</td>\n",
       "      <td>...</td>\n",
       "      <td>...</td>\n",
       "      <td>...</td>\n",
       "      <td>...</td>\n",
       "      <td>...</td>\n",
       "      <td>...</td>\n",
       "      <td>...</td>\n",
       "      <td>...</td>\n",
       "      <td>...</td>\n",
       "      <td>...</td>\n",
       "      <td>...</td>\n",
       "    </tr>\n",
       "    <tr>\n",
       "      <th>Bermuda</th>\n",
       "      <td>0</td>\n",
       "      <td>0</td>\n",
       "      <td>0</td>\n",
       "      <td>0</td>\n",
       "      <td>0</td>\n",
       "      <td>0</td>\n",
       "      <td>0</td>\n",
       "      <td>0</td>\n",
       "      <td>0</td>\n",
       "      <td>0</td>\n",
       "      <td>...</td>\n",
       "      <td>0</td>\n",
       "      <td>0</td>\n",
       "      <td>0</td>\n",
       "      <td>1</td>\n",
       "      <td>0</td>\n",
       "      <td>0</td>\n",
       "      <td>0</td>\n",
       "      <td>0</td>\n",
       "      <td>0</td>\n",
       "      <td>0</td>\n",
       "    </tr>\n",
       "    <tr>\n",
       "      <th>Ecuador</th>\n",
       "      <td>0</td>\n",
       "      <td>0</td>\n",
       "      <td>0</td>\n",
       "      <td>0</td>\n",
       "      <td>0</td>\n",
       "      <td>0</td>\n",
       "      <td>0</td>\n",
       "      <td>0</td>\n",
       "      <td>0</td>\n",
       "      <td>0</td>\n",
       "      <td>...</td>\n",
       "      <td>0</td>\n",
       "      <td>0</td>\n",
       "      <td>0</td>\n",
       "      <td>1</td>\n",
       "      <td>0</td>\n",
       "      <td>0</td>\n",
       "      <td>0</td>\n",
       "      <td>0</td>\n",
       "      <td>0</td>\n",
       "      <td>0</td>\n",
       "    </tr>\n",
       "    <tr>\n",
       "      <th>Syria</th>\n",
       "      <td>0</td>\n",
       "      <td>0</td>\n",
       "      <td>0</td>\n",
       "      <td>0</td>\n",
       "      <td>0</td>\n",
       "      <td>0</td>\n",
       "      <td>0</td>\n",
       "      <td>0</td>\n",
       "      <td>0</td>\n",
       "      <td>0</td>\n",
       "      <td>...</td>\n",
       "      <td>0</td>\n",
       "      <td>1</td>\n",
       "      <td>1</td>\n",
       "      <td>0</td>\n",
       "      <td>0</td>\n",
       "      <td>0</td>\n",
       "      <td>0</td>\n",
       "      <td>0</td>\n",
       "      <td>0</td>\n",
       "      <td>0</td>\n",
       "    </tr>\n",
       "    <tr>\n",
       "      <th>Kuwait</th>\n",
       "      <td>0</td>\n",
       "      <td>0</td>\n",
       "      <td>0</td>\n",
       "      <td>0</td>\n",
       "      <td>0</td>\n",
       "      <td>0</td>\n",
       "      <td>0</td>\n",
       "      <td>0</td>\n",
       "      <td>0</td>\n",
       "      <td>0</td>\n",
       "      <td>...</td>\n",
       "      <td>0</td>\n",
       "      <td>1</td>\n",
       "      <td>1</td>\n",
       "      <td>0</td>\n",
       "      <td>0</td>\n",
       "      <td>0</td>\n",
       "      <td>0</td>\n",
       "      <td>0</td>\n",
       "      <td>0</td>\n",
       "      <td>0</td>\n",
       "    </tr>\n",
       "    <tr>\n",
       "      <th>Cyprus</th>\n",
       "      <td>0</td>\n",
       "      <td>0</td>\n",
       "      <td>0</td>\n",
       "      <td>0</td>\n",
       "      <td>0</td>\n",
       "      <td>0</td>\n",
       "      <td>0</td>\n",
       "      <td>0</td>\n",
       "      <td>0</td>\n",
       "      <td>0</td>\n",
       "      <td>...</td>\n",
       "      <td>1</td>\n",
       "      <td>0</td>\n",
       "      <td>0</td>\n",
       "      <td>0</td>\n",
       "      <td>0</td>\n",
       "      <td>0</td>\n",
       "      <td>0</td>\n",
       "      <td>0</td>\n",
       "      <td>0</td>\n",
       "      <td>0</td>\n",
       "    </tr>\n",
       "  </tbody>\n",
       "</table>\n",
       "<p>111 rows × 30 columns</p>\n",
       "</div>"
      ],
      "text/plain": [
       "                Crime TV Shows  Spanish-Language TV Shows  \\\n",
       "Country                                                     \n",
       "United States              115                         25   \n",
       "India                        7                          0   \n",
       "South Korea                 16                          1   \n",
       "China                        4                          0   \n",
       "United Kingdom              43                          1   \n",
       "...                        ...                        ...   \n",
       "Bermuda                      0                          0   \n",
       "Ecuador                      0                          0   \n",
       "Syria                        0                          0   \n",
       "Kuwait                       0                          0   \n",
       "Cyprus                       0                          0   \n",
       "\n",
       "                Science & Nature TV  Cult Movies  Independent Movies  \\\n",
       "Country                                                                \n",
       "United States                    31           37                 287   \n",
       "India                             0            4                 128   \n",
       "South Korea                       0            1                   2   \n",
       "China                             0            1                   1   \n",
       "United Kingdom                   25            5                  52   \n",
       "...                             ...          ...                 ...   \n",
       "Bermuda                           0            0                   0   \n",
       "Ecuador                           0            0                   0   \n",
       "Syria                             0            0                   0   \n",
       "Kuwait                            0            0                   0   \n",
       "Cyprus                            0            0                   0   \n",
       "\n",
       "                TV Mysteries  British TV Shows  Music & Musicals  Reality TV  \\\n",
       "Country                                                                        \n",
       "United States             44                22                77          67   \n",
       "India                      3                 0                92           2   \n",
       "South Korea                0                 0                 1           4   \n",
       "China                      1                 1                 1           0   \n",
       "United Kingdom             3               192                23          27   \n",
       "...                      ...               ...               ...         ...   \n",
       "Bermuda                    0                 0                 0           0   \n",
       "Ecuador                    0                 0                 0           0   \n",
       "Syria                      0                 0                 0           0   \n",
       "Kuwait                     0                 0                 0           0   \n",
       "Cyprus                     0                 0                 0           0   \n",
       "\n",
       "                Teen TV Shows  ...  comedy  international  drama  documentary  \\\n",
       "Country                        ...                                              \n",
       "United States              20  ...     855            172    722          535   \n",
       "India                       1  ...     263            767    560           30   \n",
       "South Korea                 0  ...      23            131     41            2   \n",
       "China                       3  ...      32             90     44            6   \n",
       "United Kingdom              0  ...     123            232    149          188   \n",
       "...                       ...  ...     ...            ...    ...          ...   \n",
       "Bermuda                     0  ...       0              0      0            1   \n",
       "Ecuador                     0  ...       0              0      0            1   \n",
       "Syria                       0  ...       0              1      1            0   \n",
       "Kuwait                      0  ...       0              1      1            0   \n",
       "Cyprus                      0  ...       1              0      0            0   \n",
       "\n",
       "                horror  thriller  romantic  action and adventure  scifi  anime  \n",
       "Country                                                                         \n",
       "United States      175       225       160                   320    184     12  \n",
       "India               37        75        97                   130     14      0  \n",
       "South Korea          3        12        50                    22      4      1  \n",
       "China                1         4        27                    53     14      1  \n",
       "United Kingdom      26        46        32                    65     31      0  \n",
       "...                ...       ...       ...                   ...    ...    ...  \n",
       "Bermuda              0         0         0                     0      0      0  \n",
       "Ecuador              0         0         0                     0      0      0  \n",
       "Syria                0         0         0                     0      0      0  \n",
       "Kuwait               0         0         0                     0      0      0  \n",
       "Cyprus               0         0         0                     0      0      0  \n",
       "\n",
       "[111 rows x 30 columns]"
      ]
     },
     "execution_count": 494,
     "metadata": {},
     "output_type": "execute_result"
    }
   ],
   "source": [
    "#The above chart is useless. All figures dwarfed in comparison to the numbers of the USA, \n",
    "#so even if a genre is popular within the context of a country's population, it is difficult to see. \n",
    "#There are also too many genres listed, so some of the genres will be grouped.\n",
    "family = ['Children & Family Movies']\n",
    "kids = [\"Kids' TV\", ]\n",
    "comedy = ['Comedies', 'Stand-Up Comedy', 'TV Comedies', 'Stand-Up Comedy & Talk Shows']\n",
    "international = ['International TV Shows', 'International Movies']\n",
    "drama = ['Dramas', 'TV Dramas']\n",
    "documentaries = ['Documentaries', 'Docuseries', ]\n",
    "horror = ['TV Horror', 'Horror Movies']\n",
    "thriller = ['TV Thrillers', 'Thrillers']\n",
    "romantic = ['Romantic Movies', 'Romantic TV Shows']\n",
    "actionadventure = ['Action & Adventure', 'TV Action & Adventure']\n",
    "scifi = ['TV Sci-Fi & Fantasy', 'Sci-Fi & Fantasy']\n",
    "anime = ['Anime Features', 'Anime Series']\n",
    "\n",
    "def columnsum(colslist, df, newcolname): \n",
    "    df[newcolname] = 0\n",
    "    for c in colslist: \n",
    "        df[newcolname] = df[newcolname] + df[c]\n",
    "    \n",
    "    return df.drop(columns=colslist)\n",
    "    \n",
    "heatmap2 = heatmap \n",
    "heatmap2 = columnsum(family, heatmap2, 'family')\n",
    "heatmap2 = columnsum(kids, heatmap2, 'kids')\n",
    "heatmap2 = columnsum(comedy, heatmap2, 'comedy')\n",
    "heatmap2 = columnsum(international, heatmap2, 'international')\n",
    "heatmap2 = columnsum(drama, heatmap2, 'drama')\n",
    "heatmap2 = columnsum(documentaries, heatmap2, 'documentary')\n",
    "heatmap2 = columnsum(horror, heatmap2, 'horror')\n",
    "heatmap2 = columnsum(thriller, heatmap2, 'thriller')\n",
    "heatmap2 = columnsum(romantic, heatmap2, 'romantic')\n",
    "heatmap2 = columnsum(actionadventure, heatmap2, 'action and adventure')\n",
    "heatmap2 = columnsum(scifi, heatmap2, 'scifi')\n",
    "heatmap2 = columnsum(anime, heatmap2, 'anime')\n",
    "\n",
    "heatmap2"
   ]
  },
  {
   "cell_type": "code",
   "execution_count": 495,
   "metadata": {},
   "outputs": [
    {
     "data": {
      "text/plain": [
       "<AxesSubplot:ylabel='Country'>"
      ]
     },
     "execution_count": 495,
     "metadata": {},
     "output_type": "execute_result"
    },
    {
     "data": {
      "image/png": "[encoded data removed]",
      "text/plain": [
       "<Figure size 2160x1080 with 2 Axes>"
      ]
     },
     "metadata": {
      "needs_background": "light"
     },
     "output_type": "display_data"
    }
   ],
   "source": [
    "#For a more insightful chart, the cell values from absolute numbers, to % share of total offerings by country instead.\n",
    "percentheatmap = heatmap2.apply(lambda x: (x*100)/ heatmap2[list(heatmap2.columns)].sum(axis=1))\n",
    "plt.subplots(figsize=(30,15))\n",
    "sns.heatmap(percentheatmap, cmap='viridis')"
   ]
  },
  {
   "cell_type": "markdown",
   "metadata": {},
   "source": [
    "## Observations \n",
    "This chart is much clearer than the first one, and it shows some obvious patterns.\n",
    "Unsurprisingly, the International category is internationally very popular. \n",
    "Other categories that are quite popular internationally include: comedy, drama, and documentary.\n",
    "This is quite interesting, as one does not necessarily expect the popular categories to be popular in all countries, since cultures vary greatly. It might have been more intuitive to assume that some countries were distorting the average, but as the data show this is not the case - instead, popular categories like drama, international, comedy, are popular throughout. This finding is emphasised when observing the clustermap of US data vs Foreign. The most prominent categories stand out in both US and Foreign, indicating that while the above studies show there are certainly less titles going to Foreign audiences, the overall composition of the offerings is largely the same. \n",
    "This could mean that there is potential for growth. If the offering of content is reflective of the audience's demand and their preferences, it is reasonable to assume that these foreign markets would also enjoy the titles they are not receiving, and that the number of offerings they receive has room to be increased. "
   ]
  },
  {
   "cell_type": "code",
   "execution_count": 547,
   "metadata": {},
   "outputs": [],
   "source": [
    "foreign = heatmap2.loc['India':].sum(axis=0).to_frame().transpose()\n",
    "foreign.index = ['Foreign']\n",
    "domestic = heatmap2.loc['United States'].to_frame().transpose()"
   ]
  },
  {
   "cell_type": "code",
   "execution_count": 548,
   "metadata": {},
   "outputs": [
    {
     "data": {
      "text/html": [
       "<div>\n",
       "<style scoped>\n",
       "    .dataframe tbody tr th:only-of-type {\n",
       "        vertical-align: middle;\n",
       "    }\n",
       "\n",
       "    .dataframe tbody tr th {\n",
       "        vertical-align: top;\n",
       "    }\n",
       "\n",
       "    .dataframe thead th {\n",
       "        text-align: right;\n",
       "    }\n",
       "</style>\n",
       "<table border=\"1\" class=\"dataframe\">\n",
       "  <thead>\n",
       "    <tr style=\"text-align: right;\">\n",
       "      <th></th>\n",
       "      <th>Crime TV Shows</th>\n",
       "      <th>Spanish-Language TV Shows</th>\n",
       "      <th>Science &amp; Nature TV</th>\n",
       "      <th>Cult Movies</th>\n",
       "      <th>Independent Movies</th>\n",
       "      <th>TV Mysteries</th>\n",
       "      <th>British TV Shows</th>\n",
       "      <th>Music &amp; Musicals</th>\n",
       "      <th>Reality TV</th>\n",
       "      <th>Teen TV Shows</th>\n",
       "      <th>...</th>\n",
       "      <th>comedy</th>\n",
       "      <th>international</th>\n",
       "      <th>drama</th>\n",
       "      <th>documentary</th>\n",
       "      <th>horror</th>\n",
       "      <th>thriller</th>\n",
       "      <th>romantic</th>\n",
       "      <th>action and adventure</th>\n",
       "      <th>scifi</th>\n",
       "      <th>anime</th>\n",
       "    </tr>\n",
       "  </thead>\n",
       "  <tbody>\n",
       "    <tr>\n",
       "      <th>United States</th>\n",
       "      <td>2.417998</td>\n",
       "      <td>0.525652</td>\n",
       "      <td>0.651808</td>\n",
       "      <td>0.777965</td>\n",
       "      <td>6.034483</td>\n",
       "      <td>0.925147</td>\n",
       "      <td>0.462574</td>\n",
       "      <td>1.619008</td>\n",
       "      <td>1.408747</td>\n",
       "      <td>0.420521</td>\n",
       "      <td>...</td>\n",
       "      <td>17.977292</td>\n",
       "      <td>3.616484</td>\n",
       "      <td>15.180824</td>\n",
       "      <td>11.248949</td>\n",
       "      <td>3.679563</td>\n",
       "      <td>4.730866</td>\n",
       "      <td>3.364172</td>\n",
       "      <td>6.728343</td>\n",
       "      <td>3.868797</td>\n",
       "      <td>0.252313</td>\n",
       "    </tr>\n",
       "    <tr>\n",
       "      <th>Foreign</th>\n",
       "      <td>2.441671</td>\n",
       "      <td>1.003798</td>\n",
       "      <td>0.397902</td>\n",
       "      <td>0.316513</td>\n",
       "      <td>4.141798</td>\n",
       "      <td>0.298426</td>\n",
       "      <td>1.971423</td>\n",
       "      <td>1.528305</td>\n",
       "      <td>0.660156</td>\n",
       "      <td>0.198951</td>\n",
       "      <td>...</td>\n",
       "      <td>10.372581</td>\n",
       "      <td>28.513294</td>\n",
       "      <td>17.589076</td>\n",
       "      <td>5.127509</td>\n",
       "      <td>1.917164</td>\n",
       "      <td>3.201302</td>\n",
       "      <td>4.621089</td>\n",
       "      <td>5.652017</td>\n",
       "      <td>1.573521</td>\n",
       "      <td>1.392657</td>\n",
       "    </tr>\n",
       "  </tbody>\n",
       "</table>\n",
       "<p>2 rows × 30 columns</p>\n",
       "</div>"
      ],
      "text/plain": [
       "               Crime TV Shows  Spanish-Language TV Shows  Science & Nature TV  \\\n",
       "United States        2.417998                   0.525652             0.651808   \n",
       "Foreign              2.441671                   1.003798             0.397902   \n",
       "\n",
       "               Cult Movies  Independent Movies  TV Mysteries  \\\n",
       "United States     0.777965            6.034483      0.925147   \n",
       "Foreign           0.316513            4.141798      0.298426   \n",
       "\n",
       "               British TV Shows  Music & Musicals  Reality TV  Teen TV Shows  \\\n",
       "United States          0.462574          1.619008    1.408747       0.420521   \n",
       "Foreign                1.971423          1.528305    0.660156       0.198951   \n",
       "\n",
       "               ...     comedy  international      drama  documentary  \\\n",
       "United States  ...  17.977292       3.616484  15.180824    11.248949   \n",
       "Foreign        ...  10.372581      28.513294  17.589076     5.127509   \n",
       "\n",
       "                 horror  thriller  romantic  action and adventure     scifi  \\\n",
       "United States  3.679563  4.730866  3.364172              6.728343  3.868797   \n",
       "Foreign        1.917164  3.201302  4.621089              5.652017  1.573521   \n",
       "\n",
       "                  anime  \n",
       "United States  0.252313  \n",
       "Foreign        1.392657  \n",
       "\n",
       "[2 rows x 30 columns]"
      ]
     },
     "execution_count": 548,
     "metadata": {},
     "output_type": "execute_result"
    }
   ],
   "source": [
    "usvsforeign = domestic.append(foreign)\n",
    "usvsforeign = usvsforeign.apply(lambda x: (x*100)/ usvsforeign[list(usvsforeign.columns)].sum(axis=1))\n",
    "usvsforeign"
   ]
  },
  {
   "cell_type": "code",
   "execution_count": 551,
   "metadata": {},
   "outputs": [
    {
     "data": {
      "text/plain": [
       "<seaborn.matrix.ClusterGrid at 0x7fc63cf6d850>"
      ]
     },
     "execution_count": 551,
     "metadata": {},
     "output_type": "execute_result"
    },
    {
     "data": {
      "image/png": "[encoded data removed]",
      "text/plain": [
       "<Figure size 720x720 with 4 Axes>"
      ]
     },
     "metadata": {
      "needs_background": "light"
     },
     "output_type": "display_data"
    }
   ],
   "source": [
    "sns.clustermap(usvsforeign)"
   ]
  },
  {
   "cell_type": "code",
   "execution_count": null,
   "metadata": {},
   "outputs": [],
   "source": []
  }
 ],
 "metadata": {
  "kernelspec": {
   "display_name": "Python 3",
   "language": "python",
   "name": "python3"
  },
  "language_info": {
   "codemirror_mode": {
    "name": "ipython",
    "version": 3
   },
   "file_extension": ".py",
   "mimetype": "text/x-python",
   "name": "python",
   "nbconvert_exporter": "python",
   "pygments_lexer": "ipython3",
   "version": "3.8.5"
  }
 },
 "nbformat": 4,
 "nbformat_minor": 4
}
